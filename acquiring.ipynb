{
 "cells": [
  {
   "cell_type": "code",
   "execution_count": 1,
   "id": "c2618126",
   "metadata": {},
   "outputs": [],
   "source": [
    "import pandas as pd\n",
    "from requests import get\n",
    "from bs4 import BeautifulSoup\n",
    "import os"
   ]
  },
  {
   "cell_type": "markdown",
   "id": "20afa3b3",
   "metadata": {},
   "source": [
    "Exercise 1)\n",
    "\n",
    "Visit Codeup's Blog and record the urls for at least 5 distinct blog posts. For each post, you should scrape at least the post's title and content.\n",
    "\n",
    "Encapsulate your work in a function named get_blog_articles that will return a list of dictionaries, with each dictionary representing one article. The shape of each dictionary should look like this:\n",
    "\n",
    "{ 'title': 'the title of the article', 'content': 'the full text content of the article' }"
   ]
  },
  {
   "cell_type": "code",
   "execution_count": 2,
   "id": "74e41fac",
   "metadata": {},
   "outputs": [],
   "source": [
    "#first grabbing 5 of Codeup's Blogs url:\n",
    "url1 = \"https://codeup.com/featured/what-jobs-can-you-get-after-a-coding-bootcamp-part-2-cloud-administration/\"\n",
    "url2 = 'https://codeup.com/data-science/jobs-after-a-coding-bootcamp-part-1-data-science/'\n",
    "url3 = 'https://codeup.com/workshops/san-antonio/in-person-workshop-learn-to-code-javascript-on-7-26/'\n",
    "url4 = 'https://codeup.com/codeup-news/inclusion-at-codeup-during-pride-month-and-always/'\n",
    "url5 = 'https://codeup.com/workshops/codeup-dallas-how-to-succeed-at-a-coding-bootcamp-on-june-9th/'\n",
    "#headers let others know who you are:\n",
    "headers = {'User-Agent': 'Codeup Data Science Student'} # Some websites don't accept the pyhon-requests default user-agent"
   ]
  },
  {
   "cell_type": "code",
   "execution_count": 3,
   "id": "6a1dc2ee",
   "metadata": {},
   "outputs": [
    {
     "data": {
      "text/plain": [
       "<Response [200]>"
      ]
     },
     "execution_count": 3,
     "metadata": {},
     "output_type": "execute_result"
    }
   ],
   "source": [
    "#grabbing url1 content:\n",
    "response = get(url1, headers=headers)\n",
    "response"
   ]
  },
  {
   "cell_type": "code",
   "execution_count": 4,
   "id": "0375122e",
   "metadata": {},
   "outputs": [],
   "source": [
    "#checking that html is there:\n",
    "#print(response.text)[:400]"
   ]
  },
  {
   "cell_type": "code",
   "execution_count": 5,
   "id": "f56c4990",
   "metadata": {},
   "outputs": [],
   "source": [
    "# Make a soup variable holding the response content\n",
    "soup = BeautifulSoup(response.content, 'html.parser')"
   ]
  },
  {
   "cell_type": "code",
   "execution_count": 6,
   "id": "d05b1772",
   "metadata": {},
   "outputs": [
    {
     "data": {
      "text/plain": [
       "<h1 class=\"entry-title\">What Jobs Can You Get After a Coding Bootcamp? Part 2: Cloud Administration</h1>"
      ]
     },
     "execution_count": 6,
     "metadata": {},
     "output_type": "execute_result"
    }
   ],
   "source": [
    "#grabbing title of article:\n",
    "article_title = \"#post-18869 > div:nth-child(1) > h1\"\n",
    "soup.select(article_title)[0]"
   ]
  },
  {
   "cell_type": "code",
   "execution_count": 7,
   "id": "76c87939",
   "metadata": {},
   "outputs": [
    {
     "data": {
      "text/plain": [
       "'What Jobs Can You Get After a Coding Bootcamp? Part 2: Cloud Administration'"
      ]
     },
     "execution_count": 7,
     "metadata": {},
     "output_type": "execute_result"
    }
   ],
   "source": [
    "#using info from title, such as class and .find:\n",
    "title = soup.find('h1', class_='entry-title').text\n",
    "title"
   ]
  },
  {
   "cell_type": "code",
   "execution_count": 8,
   "id": "64b569e1",
   "metadata": {},
   "outputs": [
    {
     "data": {
      "text/plain": [
       "'Have you been considering a career in Cloud Administration, but have no idea what your job title or potential salary could be? Continue reading below to find out! In this mini-series, we will take each of our programs here at Codeup: Data Science, Web Development, and Cloud Administration, and outline respectively potential job titles, as well as entry-level salaries.*\\xa0Let’s discuss Cloud Administration. Program Overview At Codeup, we offer a 15-week Cloud Administration program, which was derived from our previous two programs: Systems Engineering and Cyber Cloud. We combined the best of both and blended hands-on practical knowledge with skilled instructors to create the Cloud Administration program. Upon completing this program, you’ll have the opportunity to take on two exams for certifications: Amazon Web Services (AWS) Cloud Practitioner and AWS Solutions Architect Associate.\\xa0 Potential Jobs According to A Cloud Guru, with an AWS Certification you’ll be equipped with the knowledge and experience to secure a job as the following: 1. Cloud Architect As a Cloud Architect, you will double as an IT specialist responsible for your organization’s cloud infrastructure. This includes system monitoring, computing strategy, planning, building and deployment. An entry-level Cloud Architect can make an estimated $93,892 annually according to Glassdoor.\\xa0 2. Cloud Developer A Cloud Developer’s main duties align with a software developer’s. The differentiating factor is a Cloud Developer operates virtually with cloud computing technology. This may include the design, analysis and maintenance of a company’s cloud infrastructure. An entry-level Cloud Developer can make an estimated $89,652 annually according to Glassdoor.\\xa0 3. Cloud Systems Administrator A Cloud Systems Administrator can be expected to provide insight on cloud systems, specifically working with IT to provide assistance and resolve operational issues. An entry-level Cloud Systems Administrator can make an estimated $64,805 annually according to Glassdoor. Honorable Mention A few additional roles to consider with AWS Certification include:\\xa0  Cloud DevOps Engineer- Estimated Entry-Level Salary $88,563 Cloud Security Engineer- Estimated Entry-Level Salary $85,111 Cloud Data Architect- Estimated Entry-Level Salary $91,598 Cloud Consultant- Estimated Entry-Level Salary $72,474  Interested in the other parts of this mini-series? Check them out below!  Part 1: Data Science Part 3: Web Development (Coming Soon!)\\xa0  *Disclaimer: All information presented in this article is by no means guaranteed by completing a Codeup program. Salaries and duties vary based on factors such as company, location, and experience. These salaries are estimates based on San Antonio, TX data, and these duties are general and may not be exact for every position.'"
      ]
     },
     "execution_count": 8,
     "metadata": {},
     "output_type": "execute_result"
    }
   ],
   "source": [
    "#looking at website, I found the class title section and what tag comes before (div)\n",
    "#the spacing has \\n. The text needs to be stripped of the html symbols and then \\n replaced with a space.\n",
    "content = soup.find('div', class_='entry-content').text.strip().replace('\\n',' ')\n",
    "content"
   ]
  },
  {
   "cell_type": "code",
   "execution_count": 9,
   "id": "67f4c03d",
   "metadata": {},
   "outputs": [],
   "source": [
    "#creating a function that pulls codeup blog urls and reassigns title and content into a dictionary:\n",
    "\n",
    "def get_blog_articles(url):\n",
    "    \"\"\"this function pulls codeup blog urls and reassigns the tile and content of the blog\n",
    "    into a dicitionary\"\"\"\n",
    "    url = url\n",
    "    #establishing a header for access:\n",
    "    headers = {'User-Agent': 'Codeup Data Science Student'} \n",
    "    response = get(url, headers=headers)\n",
    "    \n",
    "    # Make a soup variable holding the response content\n",
    "    soup = BeautifulSoup(response.content, 'html.parser')\n",
    "    \n",
    "    #creating the dictionary\n",
    "    output = {}\n",
    "    output['title'] = soup.find('h1', class_='entry-title').text\n",
    "    output['content'] = soup.find('div', class_='entry-content').text.strip().replace('\\n',' ')\n",
    "    \n",
    "    return output"
   ]
  },
  {
   "cell_type": "code",
   "execution_count": 10,
   "id": "58d7f565",
   "metadata": {},
   "outputs": [
    {
     "data": {
      "text/plain": [
       "{'title': 'What Jobs Can You Get After a Coding Bootcamp? Part 2: Cloud Administration',\n",
       " 'content': 'Have you been considering a career in Cloud Administration, but have no idea what your job title or potential salary could be? Continue reading below to find out! In this mini-series, we will take each of our programs here at Codeup: Data Science, Web Development, and Cloud Administration, and outline respectively potential job titles, as well as entry-level salaries.*\\xa0Let’s discuss Cloud Administration. Program Overview At Codeup, we offer a 15-week Cloud Administration program, which was derived from our previous two programs: Systems Engineering and Cyber Cloud. We combined the best of both and blended hands-on practical knowledge with skilled instructors to create the Cloud Administration program. Upon completing this program, you’ll have the opportunity to take on two exams for certifications: Amazon Web Services (AWS) Cloud Practitioner and AWS Solutions Architect Associate.\\xa0 Potential Jobs According to A Cloud Guru, with an AWS Certification you’ll be equipped with the knowledge and experience to secure a job as the following: 1. Cloud Architect As a Cloud Architect, you will double as an IT specialist responsible for your organization’s cloud infrastructure. This includes system monitoring, computing strategy, planning, building and deployment. An entry-level Cloud Architect can make an estimated $93,892 annually according to Glassdoor.\\xa0 2. Cloud Developer A Cloud Developer’s main duties align with a software developer’s. The differentiating factor is a Cloud Developer operates virtually with cloud computing technology. This may include the design, analysis and maintenance of a company’s cloud infrastructure. An entry-level Cloud Developer can make an estimated $89,652 annually according to Glassdoor.\\xa0 3. Cloud Systems Administrator A Cloud Systems Administrator can be expected to provide insight on cloud systems, specifically working with IT to provide assistance and resolve operational issues. An entry-level Cloud Systems Administrator can make an estimated $64,805 annually according to Glassdoor. Honorable Mention A few additional roles to consider with AWS Certification include:\\xa0  Cloud DevOps Engineer- Estimated Entry-Level Salary $88,563 Cloud Security Engineer- Estimated Entry-Level Salary $85,111 Cloud Data Architect- Estimated Entry-Level Salary $91,598 Cloud Consultant- Estimated Entry-Level Salary $72,474  Interested in the other parts of this mini-series? Check them out below!  Part 1: Data Science Part 3: Web Development (Coming Soon!)\\xa0  *Disclaimer: All information presented in this article is by no means guaranteed by completing a Codeup program. Salaries and duties vary based on factors such as company, location, and experience. These salaries are estimates based on San Antonio, TX data, and these duties are general and may not be exact for every position.'}"
      ]
     },
     "execution_count": 10,
     "metadata": {},
     "output_type": "execute_result"
    }
   ],
   "source": [
    "#insert each url into function:\n",
    "get_blog_articles(url1)"
   ]
  },
  {
   "cell_type": "code",
   "execution_count": 11,
   "id": "8b7686c8",
   "metadata": {},
   "outputs": [
    {
     "data": {
      "text/plain": [
       "{'title': 'What Jobs Can You Get After a Coding Bootcamp? Part 1: Data Science',\n",
       " 'content': 'If you are interested in embarking on a career in tech, you’re probably wondering what your new job title could be, and even what your salary might look like.*\\xa0In this mini-series, we will take each of our programs here at Codeup: Data Science, Web Development, and Cloud Administration, and outline respectively potential job titles, as well as entry-level salaries.\\xa0Today we will be diving into our Data Science program, with four potential job titles you could take on! Program Overview\\xa0 During this 20-week program, you will have the opportunity to take your career to new heights with data science being one of the most needed jobs in tech. You’ll gather data, then clean it, explore it for trends, and apply machine learning models to make predictions. Upon completing this program, you will know how to turn insights into actionable recommendations. You’ll be a huge asset to any company, having all the technical skills to become a data scientist with projects upon projects of experience under your belt.\\xa0 1. Data Scientist\\xa0 Essentially, a Data Scientist is responsible for analyzing how a business performs to ensure the business stays competitive and relevant. They review the data for deeper meaning and examine it for patterns in an effort to create solutions to business problems. According to Zip Recruiter, the average entry-level salary for a Data Scientist in Texas is $60,677. 2. Data Analyst A Data Analyst finds ways to solve a business’ problems through raw data analysis. They are then responsible for sharing this information with management and stakeholders. According to Indeed, the average entry-level salary for a Data Analyst is $60,332. 3. Machine Learning Engineer\\xa0 A Machine Learning (ML) Engineer is usually on a Data Science team. They are responsible for artificial intelligence, and its functions as well as making predictions on other machine learning capabilities. They will create ML prototypes and models, then test and retrain where necessary. According to Salary.com, the average entry-level salary for a ML Engineer is $115,795. 4. Business Intelligence Analyst\\xa0 A Business Intelligence Analyst, also known as a BI Analyst is responsible for understanding computer programming languages. Their primary goal is to give accurate insight to decision-makers regarding the market, productivity, competition, and customer responses. According to Payscale, the average entry-level salary for a BI Analyst is $58,627. We understand changing careers can be scary. If you chose Codeup, we will make sure you are plenty prepared to not only take on one of these roles but succeed in it.\\xa0 This program gives you more than a textbook and a bank of pre-recorded lectures. You get hands-on instruction from industry experts, along with the power to change your life.\\xa0 If you’re ready, apply today and let’s turn your dreams into reality and get your seat secured in our next Data Science cohort.\\xa0 \\xa0 *Disclaimer: All information presented in this article is by no means guaranteed by completing a Codeup program. Salaries and duties vary based on factors such as company, location, and experience. These salaries are estimates based on San Antonio, TX data, and these duties are general and may not be exact for every position.'}"
      ]
     },
     "execution_count": 11,
     "metadata": {},
     "output_type": "execute_result"
    }
   ],
   "source": [
    "#insert each url into function:\n",
    "get_blog_articles(url2)"
   ]
  },
  {
   "cell_type": "code",
   "execution_count": 12,
   "id": "fe34528c",
   "metadata": {},
   "outputs": [
    {
     "data": {
      "text/plain": [
       "{'title': 'In-Person Workshop: Learn to Code – JavaScript on 7/26',\n",
       " 'content': 'Join us for our live in-person JavaScript crash course, where we will dig into one of the fastest-growing languages in the software development industry. It’s free and open to all – you don’t need to have any previous programming knowledge to participate.  By the end of the presentation, you will:  Have a good understanding of what programming means Know what JavaScript is and how it’s used The best part: we will get our hands dirty writing some JavaScript.   Don’t worry…we’ll walk you through every step. Come learn to code live with our very own instructor staff. Maybe this will be your jumpstart into an exciting and in-demand career…for FREE!  Must be 18+ to participate.  Parking is free on Tuesdays in downtown San Antonio.'}"
      ]
     },
     "execution_count": 12,
     "metadata": {},
     "output_type": "execute_result"
    }
   ],
   "source": [
    "#insert each url into function:\n",
    "get_blog_articles(url3)"
   ]
  },
  {
   "cell_type": "code",
   "execution_count": 13,
   "id": "bd8c0c4e",
   "metadata": {},
   "outputs": [
    {
     "data": {
      "text/plain": [
       "{'title': 'Inclusion at Codeup During Pride Month (and Always)',\n",
       " 'content': 'Happy Pride Month! Pride Month is a dedicated time to celebrate and support the LGBTQIA+ community. At Codeup, one of our core values is Cultivating Inclusive Growth, something that takes on many shapes, sizes, forms, and colors. From representation in tech to empowering and supporting all, let’s reflect on how we live out this core value for our LGBTQIA+ community, not just during Pride Month, but always. Cultivating Inclusive Growth We’re firm believers that the people making tech should look like the people using it, which is everyone. We’re proud to offer Pride Scholarships year round, which aim to increase, support, and promote representation of the LGBTQIA+ community in tech. However, representation is only one part of cultivating inclusive growth. We want to help create a thriving tech community where everyone feels represented, but also safe and empowered. In a 2019 survey conducted by Blind, 83% of LGBQ technologists and 78% of trans or gender non-conforming technologists reported that they felt safe in the workplace. In 2020, those numbers dropped to 76% and 64%, respectively. Why the drop? Maybe recent pushes for representation in tech weren’t followed up with efforts to truly cultivate inclusivity and growth. Codeup Initiatives To cultivate inclusive growth, we don’t stop at representation. We also empower and support our community so that no one feels unsafe. Our internal DEI Taskforce empowers our staff with resources and conversations that aim to create a diverse culture of support, safety, and inclusivity for each other and our students. Equipped with this knowledge, our staff can cultivate inclusive growth from the first time they interact with an applicant all the way until they get placed into a new job. They may have even felt empowered just by seeing our students and staff sporting their Pride t-shirts around town.\\xa0 Not only do we want the people making tech to look like the people using it, we also want them to feel safe and empowered to do so. If you’re looking for a career in tech, let us empower you every step of the way! First, apply now. Then, apply for our Pride Scholarship.'}"
      ]
     },
     "execution_count": 13,
     "metadata": {},
     "output_type": "execute_result"
    }
   ],
   "source": [
    "#insert each url into function:\n",
    "get_blog_articles(url4)"
   ]
  },
  {
   "cell_type": "markdown",
   "id": "e60aeabc",
   "metadata": {},
   "source": [
    "### <b> ANOTHER WAY TO DO THIS, WHEN NOT JUST PULLING EACH URL BUT RATHER LINKS ON WEBPAGE THAT UPDATES: </b>"
   ]
  },
  {
   "cell_type": "code",
   "execution_count": 14,
   "id": "d77a565e",
   "metadata": {},
   "outputs": [],
   "source": [
    "url = 'https://codeup.com/blog/'\n",
    "headers = {'User-Agent': 'Codeup Data Science'}\n",
    "response = get(url, headers=headers)"
   ]
  },
  {
   "cell_type": "code",
   "execution_count": 15,
   "id": "eef5c56c",
   "metadata": {},
   "outputs": [],
   "source": [
    "soup = BeautifulSoup (response.content, 'html.parser')"
   ]
  },
  {
   "cell_type": "markdown",
   "id": "3ae8c7c3",
   "metadata": {},
   "source": [
    "The .more-link is great, but it's missing the other blog posts on the webpage. Let's try using the h2 a hrefs as these are the only blog titles on the page."
   ]
  },
  {
   "cell_type": "code",
   "execution_count": 16,
   "id": "bd96773d",
   "metadata": {},
   "outputs": [
    {
     "data": {
      "text/plain": [
       "'https://codeup.com/featured/what-jobs-can-you-get-after-a-coding-bootcamp-part-2-cloud-administration/'"
      ]
     },
     "execution_count": 16,
     "metadata": {},
     "output_type": "execute_result"
    }
   ],
   "source": [
    "#now all of the blog on the page are showing up.\n",
    "#the [0] points out the first article\n",
    "#['href'] grabs just the url\n",
    "soup.select('h2 a[href]')[0]['href']"
   ]
  },
  {
   "cell_type": "code",
   "execution_count": 17,
   "id": "84c66c17",
   "metadata": {},
   "outputs": [
    {
     "data": {
      "text/plain": [
       "[1, 2, 3, 4, 5, 6, 7, 8, 9, 10]"
      ]
     },
     "execution_count": 17,
     "metadata": {},
     "output_type": "execute_result"
    }
   ],
   "source": [
    "#creating a loop for each article link, remember how loops work:\n",
    "[n for n in range(1, 11)]"
   ]
  },
  {
   "cell_type": "code",
   "execution_count": 18,
   "id": "3ae71960",
   "metadata": {},
   "outputs": [
    {
     "data": {
      "text/plain": [
       "['https://codeup.com/featured/what-jobs-can-you-get-after-a-coding-bootcamp-part-2-cloud-administration/',\n",
       " 'https://codeup.com/data-science/jobs-after-a-coding-bootcamp-part-1-data-science/',\n",
       " 'https://codeup.com/tips-for-prospective-students/is-our-cloud-administration-program-right-for-you/',\n",
       " 'https://codeup.com/featured/5-reasons-to-attend-our-new-cloud-administration-program/',\n",
       " 'https://codeup.com/featured/what-jobs-can-you-get-after-a-coding-bootcamp-part-2-cloud-administration/',\n",
       " 'https://codeup.com/data-science/jobs-after-a-coding-bootcamp-part-1-data-science/',\n",
       " 'https://codeup.com/workshops/san-antonio/in-person-workshop-learn-to-code-javascript-on-7-26/',\n",
       " 'https://codeup.com/workshops/in-person-workshop-learn-to-code-python-on-7-19/',\n",
       " 'https://codeup.com/workshops/dallas/free-javascript-workshop-at-codeup-dallas-on-6-28/',\n",
       " 'https://codeup.com/tips-for-prospective-students/is-our-cloud-administration-program-right-for-you/',\n",
       " 'https://codeup.com/workshops/pride-in-tech-panel/',\n",
       " 'https://codeup.com/codeup-news/inclusion-at-codeup-during-pride-month-and-always/',\n",
       " 'https://codeup.com/tips-for-prospective-students/mental-health-first-aid-training/',\n",
       " 'https://codeup.com/workshops/codeup-dallas-how-to-succeed-at-a-coding-bootcamp-on-june-9th/',\n",
       " 'https://codeup.com/featured/5-reasons-to-attend-our-new-cloud-administration-program/',\n",
       " 'https://codeup.com/workshops/learn-to-code-python-on-5-21/',\n",
       " 'https://codeup.com/dallas-newsletter/codeup-dallas-joins-career-day/',\n",
       " 'https://codeup.com/workshops/project-quest-info-session-may-24th/',\n",
       " 'https://codeup.com/workshops/from-bootcamp-to-bootcamp-a-military-appreciation-panel/',\n",
       " 'https://codeup.com/featured/our-acquisition-of-the-rackspace-cloud-academy-one-year-later/',\n",
       " 'https://codeup.com/workshops/virtual/learn-to-code-html-css-on-4-30/',\n",
       " 'https://codeup.com/workshops/virtual/learn-to-code-python-workshop-on-4-16/']"
      ]
     },
     "execution_count": 18,
     "metadata": {},
     "output_type": "execute_result"
    }
   ],
   "source": [
    "links = [a['href'] for a in soup.select('h2 a[href]')]\n",
    "links"
   ]
  },
  {
   "cell_type": "code",
   "execution_count": 19,
   "id": "1ce22ec9",
   "metadata": {},
   "outputs": [],
   "source": [
    "url = links[0]\n",
    "response = get(url, headers=headers)\n",
    "soup = BeautifulSoup(response.text)"
   ]
  },
  {
   "cell_type": "code",
   "execution_count": 20,
   "id": "0eeda647",
   "metadata": {},
   "outputs": [
    {
     "data": {
      "text/plain": [
       "'What Jobs Can You Get After a Coding Bootcamp? Part 2: Cloud Administration'"
      ]
     },
     "execution_count": 20,
     "metadata": {},
     "output_type": "execute_result"
    }
   ],
   "source": [
    "soup.find('h1', class_='entry-title').text"
   ]
  },
  {
   "cell_type": "code",
   "execution_count": 21,
   "id": "ebbab8a3",
   "metadata": {},
   "outputs": [
    {
     "data": {
      "text/plain": [
       "'Have you been considering a career in Cloud Administration, but have no idea what your job title or potential salary could be? Continue reading below to find out! In this mini-series, we will take each of our programs here at Codeup: Data Science, Web Development, and Cloud Administration, and outline respectively potential job titles, as well as entry-level salaries.*\\xa0Let’s discuss Cloud Administration. Program Overview At Codeup, we offer a 15-week Cloud Administration program, which was derived from our previous two programs: Systems Engineering and Cyber Cloud. We combined the best of both and blended hands-on practical knowledge with skilled instructors to create the Cloud Administration program. Upon completing this program, you’ll have the opportunity to take on two exams for certifications: Amazon Web Services (AWS) Cloud Practitioner and AWS Solutions Architect Associate.\\xa0 Potential Jobs According to A Cloud Guru, with an AWS Certification you’ll be equipped with the knowledge and experience to secure a job as the following: 1. Cloud Architect As a Cloud Architect, you will double as an IT specialist responsible for your organization’s cloud infrastructure. This includes system monitoring, computing strategy, planning, building and deployment. An entry-level Cloud Architect can make an estimated $93,892 annually according to Glassdoor.\\xa0 2. Cloud Developer A Cloud Developer’s main duties align with a software developer’s. The differentiating factor is a Cloud Developer operates virtually with cloud computing technology. This may include the design, analysis and maintenance of a company’s cloud infrastructure. An entry-level Cloud Developer can make an estimated $89,652 annually according to Glassdoor.\\xa0 3. Cloud Systems Administrator A Cloud Systems Administrator can be expected to provide insight on cloud systems, specifically working with IT to provide assistance and resolve operational issues. An entry-level Cloud Systems Administrator can make an estimated $64,805 annually according to Glassdoor. Honorable Mention A few additional roles to consider with AWS Certification include:\\xa0  Cloud DevOps Engineer- Estimated Entry-Level Salary $88,563 Cloud Security Engineer- Estimated Entry-Level Salary $85,111 Cloud Data Architect- Estimated Entry-Level Salary $91,598 Cloud Consultant- Estimated Entry-Level Salary $72,474  Interested in the other parts of this mini-series? Check them out below!  Part 1: Data Science Part 3: Web Development (Coming Soon!)\\xa0  *Disclaimer: All information presented in this article is by no means guaranteed by completing a Codeup program. Salaries and duties vary based on factors such as company, location, and experience. These salaries are estimates based on San Antonio, TX data, and these duties are general and may not be exact for every position.'"
      ]
     },
     "execution_count": 21,
     "metadata": {},
     "output_type": "execute_result"
    }
   ],
   "source": [
    "soup.find('div', class_='entry-content').text.strip().replace('\\n', ' ')"
   ]
  },
  {
   "cell_type": "code",
   "execution_count": 22,
   "id": "6bb008d5",
   "metadata": {},
   "outputs": [],
   "source": [
    "#putting it altogether:\n",
    "url = 'https://codeup.com/blog/'\n",
    "headers = {'User-Agent': 'Codeup Data Science'}\n",
    "response = get(url, headers=headers)\n",
    "\n",
    "soup = BeautifulSoup (response.content, 'html.parser')\n",
    "\n",
    "links = [a['href'] for a in soup.select('h2 a[href]')]\n",
    "\n",
    "articles = []\n",
    "\n",
    "for url in links:\n",
    "    \n",
    "    url_response = get(url, headers=headers)\n",
    "    soup = BeautifulSoup(url_response.text)\n",
    "    \n",
    "    title = soup.find('h1', class_='entry-title').text.strip()\n",
    "    content = soup.find('div', class_='entry-content').text.strip().replace('\\n', ' ')\n",
    "    \n",
    "    article_dict = {\n",
    "        'title': title,\n",
    "        'content': content,\n",
    "    }\n",
    "    \n",
    "    articles.append(article_dict)"
   ]
  },
  {
   "cell_type": "code",
   "execution_count": 23,
   "id": "765c5559",
   "metadata": {},
   "outputs": [
    {
     "data": {
      "text/plain": [
       "[{'title': 'What Jobs Can You Get After a Coding Bootcamp? Part 2: Cloud Administration',\n",
       "  'content': 'Have you been considering a career in Cloud Administration, but have no idea what your job title or potential salary could be? Continue reading below to find out! In this mini-series, we will take each of our programs here at Codeup: Data Science, Web Development, and Cloud Administration, and outline respectively potential job titles, as well as entry-level salaries.*\\xa0Let’s discuss Cloud Administration. Program Overview At Codeup, we offer a 15-week Cloud Administration program, which was derived from our previous two programs: Systems Engineering and Cyber Cloud. We combined the best of both and blended hands-on practical knowledge with skilled instructors to create the Cloud Administration program. Upon completing this program, you’ll have the opportunity to take on two exams for certifications: Amazon Web Services (AWS) Cloud Practitioner and AWS Solutions Architect Associate.\\xa0 Potential Jobs According to A Cloud Guru, with an AWS Certification you’ll be equipped with the knowledge and experience to secure a job as the following: 1. Cloud Architect As a Cloud Architect, you will double as an IT specialist responsible for your organization’s cloud infrastructure. This includes system monitoring, computing strategy, planning, building and deployment. An entry-level Cloud Architect can make an estimated $93,892 annually according to Glassdoor.\\xa0 2. Cloud Developer A Cloud Developer’s main duties align with a software developer’s. The differentiating factor is a Cloud Developer operates virtually with cloud computing technology. This may include the design, analysis and maintenance of a company’s cloud infrastructure. An entry-level Cloud Developer can make an estimated $89,652 annually according to Glassdoor.\\xa0 3. Cloud Systems Administrator A Cloud Systems Administrator can be expected to provide insight on cloud systems, specifically working with IT to provide assistance and resolve operational issues. An entry-level Cloud Systems Administrator can make an estimated $64,805 annually according to Glassdoor. Honorable Mention A few additional roles to consider with AWS Certification include:\\xa0  Cloud DevOps Engineer- Estimated Entry-Level Salary $88,563 Cloud Security Engineer- Estimated Entry-Level Salary $85,111 Cloud Data Architect- Estimated Entry-Level Salary $91,598 Cloud Consultant- Estimated Entry-Level Salary $72,474  Interested in the other parts of this mini-series? Check them out below!  Part 1: Data Science Part 3: Web Development (Coming Soon!)\\xa0  *Disclaimer: All information presented in this article is by no means guaranteed by completing a Codeup program. Salaries and duties vary based on factors such as company, location, and experience. These salaries are estimates based on San Antonio, TX data, and these duties are general and may not be exact for every position.'},\n",
       " {'title': 'What Jobs Can You Get After a Coding Bootcamp? Part 1: Data Science',\n",
       "  'content': 'If you are interested in embarking on a career in tech, you’re probably wondering what your new job title could be, and even what your salary might look like.*\\xa0In this mini-series, we will take each of our programs here at Codeup: Data Science, Web Development, and Cloud Administration, and outline respectively potential job titles, as well as entry-level salaries.\\xa0Today we will be diving into our Data Science program, with four potential job titles you could take on! Program Overview\\xa0 During this 20-week program, you will have the opportunity to take your career to new heights with data science being one of the most needed jobs in tech. You’ll gather data, then clean it, explore it for trends, and apply machine learning models to make predictions. Upon completing this program, you will know how to turn insights into actionable recommendations. You’ll be a huge asset to any company, having all the technical skills to become a data scientist with projects upon projects of experience under your belt.\\xa0 1. Data Scientist\\xa0 Essentially, a Data Scientist is responsible for analyzing how a business performs to ensure the business stays competitive and relevant. They review the data for deeper meaning and examine it for patterns in an effort to create solutions to business problems. According to Zip Recruiter, the average entry-level salary for a Data Scientist in Texas is $60,677. 2. Data Analyst A Data Analyst finds ways to solve a business’ problems through raw data analysis. They are then responsible for sharing this information with management and stakeholders. According to Indeed, the average entry-level salary for a Data Analyst is $60,332. 3. Machine Learning Engineer\\xa0 A Machine Learning (ML) Engineer is usually on a Data Science team. They are responsible for artificial intelligence, and its functions as well as making predictions on other machine learning capabilities. They will create ML prototypes and models, then test and retrain where necessary. According to Salary.com, the average entry-level salary for a ML Engineer is $115,795. 4. Business Intelligence Analyst\\xa0 A Business Intelligence Analyst, also known as a BI Analyst is responsible for understanding computer programming languages. Their primary goal is to give accurate insight to decision-makers regarding the market, productivity, competition, and customer responses. According to Payscale, the average entry-level salary for a BI Analyst is $58,627. We understand changing careers can be scary. If you chose Codeup, we will make sure you are plenty prepared to not only take on one of these roles but succeed in it.\\xa0 This program gives you more than a textbook and a bank of pre-recorded lectures. You get hands-on instruction from industry experts, along with the power to change your life.\\xa0 If you’re ready, apply today and let’s turn your dreams into reality and get your seat secured in our next Data Science cohort.\\xa0 \\xa0 *Disclaimer: All information presented in this article is by no means guaranteed by completing a Codeup program. Salaries and duties vary based on factors such as company, location, and experience. These salaries are estimates based on San Antonio, TX data, and these duties are general and may not be exact for every position.'},\n",
       " {'title': 'Is Our Cloud Administration Program Right for You?',\n",
       "  'content': 'Changing careers can be scary. The first thing you may be asking yourself is, “where do I begin?” If you are looking into a career in tech, but coding or statistics aren’t your thing, our brand new Cloud Administration program might be just for you! What Exactly is Cloud Administration? The future is in the cloud! As the new way of doing business, all kinds of companies need to build or interact with cloud products. These aren’t just high-tech solutions – they’re the core of everyday products like cloud-based gaming from Xbox, collaborative work tools from Google Drive, and even music streaming services from Spotify!\\xa0A Cloud Administrator works with software developers to design, build, maintain, and optimize a cloud architecture to run software applications. What Will You Learn? Just like our Data Science and Web Development programs, the Cloud Administration program is considered a career accelerator. Unlike a traditional 4 year degree, you can complete our program in just 15 weeks! You will receive hands-on training in:  Networking fundamentals Linux Operating System Windows Operating System Cloud and Computer Security Amazon Web Services (AWS Cloud)  You’ll even earn two industry-recognized certifications as an AWS Cloud Practitioner and AWS Solutions Architect Associate, fully included in your tuition. You’ll learn how each technology works together, and how they are applied to real projects by starting simple, then progressively getting more complex as you add more tools to your toolbox. We’ll teach you to build infrastructure that enables software and data science products, manage cloud deployments, and optimize for cloud performance.\\xa0 As for instruction, we are dedicated to giving you the best. Your instructors are speaking from real industry experience, and are invested in every student’s success. They’re essentially your personal mentors providing on-the-ground support, making themselves accessible to you when you need them.\\xa0 Your Success Not only will you be equipped with in-demand cloud skills, but you’ll also get professional development along the way, including help polishing your resume and LinkedIn, as well as access to our employer network. This program, with the support of our career coaches and placement team, can help you become a:\\xa0  Cloud Administrator Cloud Architect Cloud Engineer Cloud Network Engineer Cloud Security Engineer\\xa0  You’re not stuck in one lane when you come to Codeup. With our instructors, coaches, and placement team you can take what you learn and run with it. Cloud technology is improving every single day and this course can ensure you are at the forefront of helping build and maintain that technology.\\xa0 Codeup Payment Options Financing your career transition can be a bit stressful, but we never want it to stop you from changing your career and applying. We have a dedicated Financial Aid and Enrollment team to walk you through every possible option to pay for your tuition here at Codeup. Whether you are using your VA benefits, grants, loans, scholarships, or self-paying, our team will work with you to ensure you receive all forms of financial aid for which you qualify. You can change your career regardless of your financial situation. Want more information on our Cloud Administration program? Check our student reviews, and our blog on 5 Reasons We Think You Should Attend the Cloud Administration program. You can do more than dream of this life-changing career – you can LIVE IT!. Our application process is the first step to beginning your journey in Cloud Administration today!'},\n",
       " {'title': '5 Reasons To Attend Our New Cloud Administration Program',\n",
       "  'content': 'Come Work In The Cloud When your Monday rolls around, do you start to get a sense of dread? That might be a sign to break up with your current job and learn something new.\\xa0At Codeup, we don’t want you to keep your head in the clouds while working a job you can’t stand. You should learn all about the cloud and cloud technology!\\xa0As we charge forward into 2022, we recently announced our brand new Cloud Administration Program.\\xa0 This is a 15-week career accelerator that gets you hands-on experience with:  Networking Linux Operating System\\xa0 Windows Operating System\\xa0 Security\\xa0 Amazon Web Services (AWS) Cloud Technology  You’ll earn two industry-recognized certifications as an AWS Cloud Practitioner and AWS Solutions Architect Associate. Both are included as part of your tuition. You will learn how to build infrastructure that enables software and data science products, manage cloud deployments, and optimize for cloud performance.\\xa0 Here are 5 reasons why we think you should attend our Cloud Administration program:\\xa0 \\xa0 1.) The Campus\\xa0 Located on Rackspace property, our Castle campus has everything you need.\\xa0Tabletop games to play with classmates on break? We got foosball and ping pong!\\xa0Need a drink to quench your thirst? We have complimentary soda, water, and tea.\\xa0 There is also lots of seating across the campus for you to study, have lunch, or even meet with classmates.\\xa0 Parking is free since we are located on Rackspace’s property. You have the option to park about 100 ft away from our building, or you can park on the underground level to save your car from the heat if you attend during the summer months.\\xa0 There is also plenty of food options within driving distance of campus. Fast food options include Mcdonald’s, Panda Express, and Bill Miller’s BBQ. For more sit-down restaurant options, you can visit Applebee’s, Buffalo Wild Wings, or Olive Garden. If you want to bring your lunch we have microwaves and refrigerators to enjoy your lunch on campus.\\xa0 \\xa0 2.) Time and Money Spent\\xa0 In just 15 weeks you will be on your way to a new career that’s in high demand! That means you won’t have to wait 2 – 4 years like other traditional degree plans to get started in your new career.\\xa0 Is the cost of our program a concern? We totally understand if it is. Our Cloud Administration program is also the most affordable option of our three programs at Codeup if you’re looking to save the most money. It’s also more affordable than a traditional degree.\\xa0 At Codeup we have a dedicated team of Financial Aid and Enrollment managers who will work with you one on one to ensure you have everything you need to pay for your time at Codeup that makes sense for your individual situation.\\xa0 We have grants, scholarships, and student loans for those who qualify. If you’re a Veteran or a dependant of a Veteran you might have GI Bill benefits for use at Codeup. We just launched an exclusive scholarship with Climb Credit that you can apply for here.\\xa0 Lastly, you can always go through your own financial institution to see what options are available to pay for Codeup.\\xa0 Check out a walkthrough of our financial aid options here.\\xa0 \\xa0 3.) Salary & Benefits\\xa0 Almost everyone changing careers during the “Great Resignation” is doing it for better pay and better benefits.\\xa0 What if I told you that any career you obtain through our Cloud Administration program offered you both a better salary and better benefits?\\xa0 According to Indeed.com the average salary for a Cloud Engineer right now is $118,712 in Texas (which is similar to the National average). This mirrors a Glassdoor Median Base salary of $118,999. Glassdoor also notes a job satisfaction rating of 4 out of 5 and over 10K open roles under the title Cloud Engineer.\\xa0 Are you guaranteed a salary like that after graduation? Not necessarily since this was an average salary. However, what that means is you have the potential to get to that level of salary at some point in your new career. Your new skill sets could land you at a larger company like Accenture, EY, or even USAA. On the other hand, you could end up at a small company like a startup or SaaS (software as a service) company.\\xa0 Both of those options will typically give you things like a great health care plan, generous amounts of time off, and additional perks like continuing education and gym discounts. Startups might be a little more unique in their offerings like remote work options, paying for new office equipment, and even potentially paying for an annual company retreat if the company works remotely.\\xa0 \\xa0 4.) Job Security According to IT senior managers in a recent Robert Half survey, cloud expertise is the topmost in-demand skill set. This means cloud experts are in high demand and will continue to be as more companies adopt cloud infrastructures. The curriculum you go through in this program won’t stick you to just one lane. Coming out of the Cloud Administration program you could land a job as a:\\xa0  Cloud Engineer Cloud Network Engineer\\xa0 Cloud Security Engineer\\xa0 Cloud Architect\\xa0 Cloud Administrator\\xa0  Having this many career options to choose from makes you a valuable and in-demand candidate for any tech company big or small. At Codeup, we have an employer-influenced curriculum. So once you graduate, you are equipped with the latest skills and knowledge today’s employers are looking for.\\xa0 \\xa0 5.) Our Instructors Are Next Level\\xa0 Our instructors genuinely care about your success. They lecture and take questions in real-time. Instead of giving you the answer, they will guide you in the right direction until you understand it yourself. They are all responsive and engaging, with a commitment to your success and a mission of empowering life change.\\xa0 At other boot camps, you won’t find the same quality of instructors with industry experience, subject matter expertise, and live interactive lectures and lab. Even at the college level, professors often don’t provide individualized attention, hands-on learning, or accountability. Our instructors make a difference in your learning journey.\\xa0 If having awesome instructors wasn’t enough, we also have a dedicated Student Experience team. This team is designed to work in collaboration with our instructors to ensure your success. Need a one-on-one session with your instructor? They can help with that. Need help just managing your time better? They can help with that too! These are passionate education professionals who want to empower you to get to that finish line we call graduation!\\xa0 Read more about why you need the best coding Bootcamp instructors here.\\xa0 \\xa0 Wrapping Up As we mentioned, as more companies adopt cloud technologies the demand for cloud experts will only continue to grow. Take this as a sign to launch your career in tech and attend our brand new Cloud Administration program today.\\xa0 Our next class starts June 16th so don’t wait to get started and fill out this form here for our admissions team to get in touch with you. You can beat the heat this summer, learn new skills, and launch your career in the cloud! We can’t wait to hear from you!'},\n",
       " {'title': 'What Jobs Can You Get After a Coding Bootcamp? Part 2: Cloud Administration',\n",
       "  'content': 'Have you been considering a career in Cloud Administration, but have no idea what your job title or potential salary could be? Continue reading below to find out! In this mini-series, we will take each of our programs here at Codeup: Data Science, Web Development, and Cloud Administration, and outline respectively potential job titles, as well as entry-level salaries.*\\xa0Let’s discuss Cloud Administration. Program Overview At Codeup, we offer a 15-week Cloud Administration program, which was derived from our previous two programs: Systems Engineering and Cyber Cloud. We combined the best of both and blended hands-on practical knowledge with skilled instructors to create the Cloud Administration program. Upon completing this program, you’ll have the opportunity to take on two exams for certifications: Amazon Web Services (AWS) Cloud Practitioner and AWS Solutions Architect Associate.\\xa0 Potential Jobs According to A Cloud Guru, with an AWS Certification you’ll be equipped with the knowledge and experience to secure a job as the following: 1. Cloud Architect As a Cloud Architect, you will double as an IT specialist responsible for your organization’s cloud infrastructure. This includes system monitoring, computing strategy, planning, building and deployment. An entry-level Cloud Architect can make an estimated $93,892 annually according to Glassdoor.\\xa0 2. Cloud Developer A Cloud Developer’s main duties align with a software developer’s. The differentiating factor is a Cloud Developer operates virtually with cloud computing technology. This may include the design, analysis and maintenance of a company’s cloud infrastructure. An entry-level Cloud Developer can make an estimated $89,652 annually according to Glassdoor.\\xa0 3. Cloud Systems Administrator A Cloud Systems Administrator can be expected to provide insight on cloud systems, specifically working with IT to provide assistance and resolve operational issues. An entry-level Cloud Systems Administrator can make an estimated $64,805 annually according to Glassdoor. Honorable Mention A few additional roles to consider with AWS Certification include:\\xa0  Cloud DevOps Engineer- Estimated Entry-Level Salary $88,563 Cloud Security Engineer- Estimated Entry-Level Salary $85,111 Cloud Data Architect- Estimated Entry-Level Salary $91,598 Cloud Consultant- Estimated Entry-Level Salary $72,474  Interested in the other parts of this mini-series? Check them out below!  Part 1: Data Science Part 3: Web Development (Coming Soon!)\\xa0  *Disclaimer: All information presented in this article is by no means guaranteed by completing a Codeup program. Salaries and duties vary based on factors such as company, location, and experience. These salaries are estimates based on San Antonio, TX data, and these duties are general and may not be exact for every position.'}]"
      ]
     },
     "execution_count": 23,
     "metadata": {},
     "output_type": "execute_result"
    }
   ],
   "source": [
    "#grabbing first 5 articles:\n",
    "articles[0:5]"
   ]
  },
  {
   "cell_type": "markdown",
   "id": "0c689f4d",
   "metadata": {},
   "source": [
    "Exercise 2)\n",
    "\n",
    "We will now be scraping text data from inshorts, a website that provides a brief overview of many different topics.\n",
    "\n",
    "Write a function that scrapes the news articles for the following topics:\n",
    "\n",
    "- Business\n",
    "- Sports\n",
    "- Technology\n",
    "- Entertainment\n",
    "\n",
    "The end product of this should be a function named get_news_articles that returns a list of dictionaries, where each dictionary has this shape:\n",
    "{\n",
    "'title': 'The article title',\n",
    "'content': 'The article content',\n",
    "'category': 'business' # for example\n",
    "}"
   ]
  },
  {
   "cell_type": "markdown",
   "id": "579ef63d",
   "metadata": {},
   "source": [
    "Step One:\n",
    "\n",
    "Start by inspecting the website in your browser. Figure out which elements will be useful.\n",
    "\n",
    "The elements I know that I want to use in scraping the news articles by category (AND not having to grab the original content of each article since the inshorts website redirects to various websites):\n",
    "1) found out that \"news-card\" had more html like buttons, css etc that I did not want, so instead just using a list of the urls to pull from:\n",
    "\n",
    "url1 = 'https://inshorts.com/en/read/business'\n",
    "url2 = 'https://inshorts.com/en/read/sports'\n",
    "url3 = 'https://inshorts.com/en/read/technology'\n",
    "url4 = 'https://inshorts.com/en/read/entertainment'\n",
    "2) using \"span\", itemprop = \"headline\": for title\n",
    "\n",
    "3) using \"div\", itemprop = \"articleBody\": for content\n",
    "4) using \"span\", class = \"author\": for author\n",
    "5) using \"span\", clas = \"date\": for date\n",
    "\n",
    "\n",
    "\n",
    "Step Two:\n",
    "\n",
    "Start by creating a function that handles a single article and produces a dictionary like the one above."
   ]
  },
  {
   "cell_type": "code",
   "execution_count": 24,
   "id": "371e0ac2",
   "metadata": {},
   "outputs": [
    {
     "data": {
      "text/plain": [
       "<Response [200]>"
      ]
     },
     "execution_count": 24,
     "metadata": {},
     "output_type": "execute_result"
    }
   ],
   "source": [
    "#creating websites parameters:\n",
    "url1 = 'https://inshorts.com/en/read/business'\n",
    "headers = {'User-Agent': 'Codeup Data Science Student'}\n",
    "    \n",
    "response = get(url1, headers=headers)\n",
    "response"
   ]
  },
  {
   "cell_type": "code",
   "execution_count": 25,
   "id": "d40a4eee",
   "metadata": {},
   "outputs": [],
   "source": [
    "# Make a soup variable holding the response content\n",
    "soup = BeautifulSoup(response.content, 'html.parser')"
   ]
  },
  {
   "cell_type": "code",
   "execution_count": 26,
   "id": "7b2014d1",
   "metadata": {},
   "outputs": [],
   "source": [
    "#finding the title of the first article on the news-card page:\n",
    "cards = soup.find('div', class_='card-stack')"
   ]
  },
  {
   "cell_type": "code",
   "execution_count": 27,
   "id": "b2b74fd1",
   "metadata": {},
   "outputs": [],
   "source": [
    "#naming all articles from find_all and then pulling only first article:\n",
    "articles = cards.find_all('div', class_ = 'news-card')\n",
    "article = articles[0]"
   ]
  },
  {
   "cell_type": "code",
   "execution_count": 28,
   "id": "f6d3de38",
   "metadata": {},
   "outputs": [
    {
     "data": {
      "text/plain": [
       "<div class=\"news-card z-depth-1\" itemscope=\"\" itemtype=\"http://schema.org/NewsArticle\">\n",
       "<span content=\"\" itemid=\"https://inshorts.com/en/news/rupee-closes-at-an-alltime-low-of-7998-against-us-dollar-1658142017227\" itemprop=\"mainEntityOfPage\" itemscope=\"\" itemtype=\"https://schema.org/WebPage\"></span>\n",
       "<span itemprop=\"author\" itemscope=\"itemscope\" itemtype=\"https://schema.org/Person\">\n",
       "<span content=\"Ridham Gambhir\" itemprop=\"name\"></span>\n",
       "</span>\n",
       "<span content=\"Rupee closes at an all-time low of 79.98 against US dollar\" itemprop=\"description\"></span>\n",
       "<span itemprop=\"image\" itemscope=\"\" itemtype=\"https://schema.org/ImageObject\">\n",
       "<meta content=\"https://static.inshorts.com/inshorts/images/v1/variants/jpg/m/2022/07_jul/18_mon/img_1658141034470_350.jpg?\" itemprop=\"url\"/>\n",
       "<meta content=\"864\" itemprop=\"width\"/>\n",
       "<meta content=\"483\" itemprop=\"height\"/>\n",
       "</span>\n",
       "<span itemprop=\"publisher\" itemscope=\"itemscope\" itemtype=\"https://schema.org/Organization\">\n",
       "<span content=\"https://inshorts.com/\" itemprop=\"url\"></span>\n",
       "<span content=\"Inshorts\" itemprop=\"name\"></span>\n",
       "<span itemprop=\"logo\" itemscope=\"\" itemtype=\"https://schema.org/ImageObject\">\n",
       "<span content=\"https://assets.inshorts.com/inshorts/images/v1/variants/jpg/m/2018/11_nov/21_wed/img_1542823931298_497.jpg\" itemprop=\"url\"></span>\n",
       "<meta content=\"400\" itemprop=\"width\"/>\n",
       "<meta content=\"60\" itemprop=\"height\"/>\n",
       "</span>\n",
       "</span>\n",
       "<div class=\"news-card-image\" style=\"background-image: url('https://static.inshorts.com/inshorts/images/v1/variants/jpg/m/2022/07_jul/18_mon/img_1658141034470_350.jpg?')\">\n",
       "</div>\n",
       "<div class=\"news-card-title news-right-box\">\n",
       "<a class=\"clickable\" href=\"/en/news/rupee-closes-at-an-alltime-low-of-7998-against-us-dollar-1658142017227\" onclick=\"track_GA_Mixpanel({'hitType': 'event', 'category': 'TitleOfNews', 'action': 'clicked', 'label': 'Rupee%20closes%20at%20an%20all-time%20low%20of%2079.98%20against%20US%20dollar)' });\" style=\"color:#44444d!important\">\n",
       "<span itemprop=\"headline\">Rupee closes at an all-time low of 79.98 against US dollar</span>\n",
       "</a>\n",
       "<div class=\"news-card-author-time news-card-author-time-in-title\">\n",
       "<a href=\"/prev/en/news/rupee-closes-at-an-alltime-low-of-7998-against-us-dollar-1658142017227\"><span class=\"short\">short</span></a> by <span class=\"author\">Ridham Gambhir</span> / \n",
       "      <span class=\"time\" content=\"2022-07-18T11:00:17.000Z\" itemprop=\"datePublished\">04:30 pm</span> on <span clas=\"date\">18 Jul 2022,Monday</span>\n",
       "</div>\n",
       "</div>\n",
       "<div class=\"news-card-content news-right-box\">\n",
       "<div itemprop=\"articleBody\">The rupee on Monday hit a fresh record low as it ended closer to the 80-mark to close at 79.98 against the US dollar. This was the seventh consecutive session when the rupee weakened. So far this year, the currency has weakened 7.05% against the US dollar. Meanwhile, BSE Sensex closed 760 points higher at 54,521 on Monday.</div>\n",
       "<div class=\"news-card-author-time news-card-author-time-in-content\">\n",
       "<a href=\"/prev/en/news/rupee-closes-at-an-alltime-low-of-7998-against-us-dollar-1658142017227\"><span class=\"short\">short</span></a> by <span class=\"author\">Ridham Gambhir</span> / \n",
       "      <span class=\"time\" content=\"2022-07-18T11:00:17.000Z\" itemprop=\"dateModified\">04:30 pm</span> on <span class=\"date\">18 Jul</span>\n",
       "</div>\n",
       "</div>\n",
       "<div class=\"news-card-footer news-right-box\">\n",
       "<div class=\"read-more\">read more at <a class=\"source\" href=\"https://www.moneycontrol.com/news/india/rupee-hits-fresh-record-low-closes-at-79-98-vs-us-dollar-8844231.html/amp?utm_campaign=fullarticle&amp;utm_medium=referral&amp;utm_source=inshorts \" onclick=\"track_GA_Mixpanel({'hitType': 'event', 'category': 'ReadMore', 'action': 'clicked', 'label': 'Moneycontrol' });\" target=\"_blank\">Moneycontrol</a></div>\n",
       "</div>\n",
       "</div>"
      ]
     },
     "execution_count": 28,
     "metadata": {},
     "output_type": "execute_result"
    }
   ],
   "source": [
    "#looking at first article:\n",
    "article"
   ]
  },
  {
   "cell_type": "code",
   "execution_count": 29,
   "id": "d6d2198e",
   "metadata": {},
   "outputs": [
    {
     "data": {
      "text/plain": [
       "'Rupee closes at an all-time low of 79.98 against US dollar'"
      ]
     },
     "execution_count": 29,
     "metadata": {},
     "output_type": "execute_result"
    }
   ],
   "source": [
    "#grabbing the title from news card:\n",
    "title = article.find(\"span\", itemprop = \"headline\").text\n",
    "title"
   ]
  },
  {
   "cell_type": "code",
   "execution_count": 30,
   "id": "b5f7696d",
   "metadata": {},
   "outputs": [
    {
     "data": {
      "text/plain": [
       "'Ridham Gambhir'"
      ]
     },
     "execution_count": 30,
     "metadata": {},
     "output_type": "execute_result"
    }
   ],
   "source": [
    "#finding the author:\n",
    "author = article.find(\"span\", class_ = \"author\").text\n",
    "author"
   ]
  },
  {
   "cell_type": "code",
   "execution_count": 31,
   "id": "e929963b",
   "metadata": {},
   "outputs": [
    {
     "data": {
      "text/plain": [
       "'18 Jul'"
      ]
     },
     "execution_count": 31,
     "metadata": {},
     "output_type": "execute_result"
    }
   ],
   "source": [
    "#finding the date:\n",
    "date = article.find(\"span\", class_ = \"date\").text\n",
    "date"
   ]
  },
  {
   "cell_type": "code",
   "execution_count": 32,
   "id": "44074e9b",
   "metadata": {},
   "outputs": [
    {
     "data": {
      "text/plain": [
       "'The rupee on Monday hit a fresh record low as it ended closer to the 80-mark to close at 79.98 against the US dollar. This was the seventh consecutive session when the rupee weakened. So far this year, the currency has weakened 7.05% against the US dollar. Meanwhile, BSE Sensex closed 760 points higher at 54,521 on Monday.'"
      ]
     },
     "execution_count": 32,
     "metadata": {},
     "output_type": "execute_result"
    }
   ],
   "source": [
    "#finding the article content:\n",
    "content = article.find(\"div\", itemprop = \"articleBody\").text\n",
    "content"
   ]
  },
  {
   "cell_type": "code",
   "execution_count": 33,
   "id": "94760156",
   "metadata": {},
   "outputs": [
    {
     "data": {
      "text/plain": [
       "'Moneycontrol'"
      ]
     },
     "execution_count": 33,
     "metadata": {},
     "output_type": "execute_result"
    }
   ],
   "source": [
    "#grabbing source from news card:\n",
    "source = article.find(\"a\", class_ = \"source\").text\n",
    "source"
   ]
  },
  {
   "cell_type": "code",
   "execution_count": 34,
   "id": "dd291e5d",
   "metadata": {},
   "outputs": [],
   "source": [
    "#creating a function that grabs one inshorts article at a time\n",
    "#and reassigns title and content based on topic into a dictionary:\n",
    "\n",
    "def parse_news_article(article, category):\n",
    "    \"\"\"this function pulls inshorts news articles and reassigns the tile and content of the articles\n",
    "    by categoryinto a dicitionary\"\"\"\n",
    "    \n",
    "     #creating the dictionary\n",
    "    output = {}\n",
    "    \n",
    "    output['title'] = article.find(\"span\", itemprop = \"headline\").text.strip()\n",
    "    output['content'] = article.find(\"div\", itemprop = \"articleBody\").text\n",
    "    output['author'] = article.find(\"span\", class_ = \"author\").text\n",
    "    output['date'] = article.find(\"span\", class_ = \"date\").text\n",
    "    output['source'] = article.find(\"a\", class_ = \"source\")\n",
    "    output['category'] = category\n",
    "    \n",
    "    return output"
   ]
  },
  {
   "cell_type": "code",
   "execution_count": 35,
   "id": "e79d50df",
   "metadata": {},
   "outputs": [
    {
     "data": {
      "text/plain": [
       "{'title': 'Rupee closes at an all-time low of 79.98 against US dollar',\n",
       " 'content': 'The rupee on Monday hit a fresh record low as it ended closer to the 80-mark to close at 79.98 against the US dollar. This was the seventh consecutive session when the rupee weakened. So far this year, the currency has weakened 7.05% against the US dollar. Meanwhile, BSE Sensex closed 760 points higher at 54,521 on Monday.',\n",
       " 'author': 'Ridham Gambhir',\n",
       " 'date': '18 Jul',\n",
       " 'source': <a class=\"source\" href=\"https://www.moneycontrol.com/news/india/rupee-hits-fresh-record-low-closes-at-79-98-vs-us-dollar-8844231.html/amp?utm_campaign=fullarticle&amp;utm_medium=referral&amp;utm_source=inshorts \" onclick=\"track_GA_Mixpanel({'hitType': 'event', 'category': 'ReadMore', 'action': 'clicked', 'label': 'Moneycontrol' });\" target=\"_blank\">Moneycontrol</a>,\n",
       " 'category': 'business'}"
      ]
     },
     "execution_count": 35,
     "metadata": {},
     "output_type": "execute_result"
    }
   ],
   "source": [
    "#testing:\n",
    "parse_news_article(article,'business')"
   ]
  },
  {
   "cell_type": "code",
   "execution_count": 36,
   "id": "e9b1ded2",
   "metadata": {},
   "outputs": [],
   "source": [
    "#### Modifying the above to dictionary all articles into one page:\n",
    "\n",
    "def parse_news_page(category):\n",
    "    url = \"https://inshorts.com/en/read/\"+category\n",
    "    response = get(url)\n",
    "    soup = BeautifulSoup(response.text)\n",
    "    \n",
    "    cards = soup.select('.news-card')\n",
    "    articles = []\n",
    "    \n",
    "    for card in cards:\n",
    "        articles.append(parse_news_article(card, category))\n",
    "        \n",
    "    return articles"
   ]
  },
  {
   "cell_type": "code",
   "execution_count": 37,
   "id": "ca38073d",
   "metadata": {},
   "outputs": [
    {
     "data": {
      "text/plain": [
       "[{'title': 'Rupee closes at an all-time low of 79.98 against US dollar',\n",
       "  'content': 'The rupee on Monday hit a fresh record low as it ended closer to the 80-mark to close at 79.98 against the US dollar. This was the seventh consecutive session when the rupee weakened. So far this year, the currency has weakened 7.05% against the US dollar. Meanwhile, BSE Sensex closed 760 points higher at 54,521 on Monday.',\n",
       "  'author': 'Ridham Gambhir',\n",
       "  'date': '18 Jul',\n",
       "  'source': <a class=\"source\" href=\"https://www.moneycontrol.com/news/india/rupee-hits-fresh-record-low-closes-at-79-98-vs-us-dollar-8844231.html/amp?utm_campaign=fullarticle&amp;utm_medium=referral&amp;utm_source=inshorts \" onclick=\"track_GA_Mixpanel({'hitType': 'event', 'category': 'ReadMore', 'action': 'clicked', 'label': 'Moneycontrol' });\" target=\"_blank\">Moneycontrol</a>,\n",
       "  'category': 'business'},\n",
       " {'title': 'Rupee hits record low of 79.97 against US dollar',\n",
       "  'content': \"The rupee hit a record low of 79.97 against the US dollar on Monday after opening at 79.76. The Finance Ministry, while speaking about the matter said that global factors such as the Russia-Ukraine war, soaring crude oil prices and tightening of global financial conditions are the major reasons for the rupee's weakening.\",\n",
       "  'author': 'Ridham Gambhir',\n",
       "  'date': '18 Jul',\n",
       "  'source': <a class=\"source\" href=\"https://twitter.com/moneycontrolcom/status/1548963607488397312?utm_campaign=fullarticle&amp;utm_medium=referral&amp;utm_source=inshorts \" onclick=\"track_GA_Mixpanel({'hitType': 'event', 'category': 'ReadMore', 'action': 'clicked', 'label': 'Twitter' });\" target=\"_blank\">Twitter</a>,\n",
       "  'category': 'business'},\n",
       " {'title': 'A fighter to the core: Mahindra praises PV Sindhu after she wins Singapore Open',\n",
       "  'content': 'Businessman Anand Mahindra took to Twitter to praise PV Sindhu after she won the Singapore Open. Sharing a tweet by Doordarshan Sports which had an old image of Sindhu, Mahindra wrote, \"That’s not just her facial expression, but the expression of her soul. A fighter to the core...Never getting demoralised by a slump. Teaching us how to rise again.\"',\n",
       "  'author': 'Ridham Gambhir',\n",
       "  'date': '17 Jul',\n",
       "  'source': <a class=\"source\" href=\"https://twitter.com/anandmahindra/status/1548560347463725062?utm_campaign=fullarticle&amp;utm_medium=referral&amp;utm_source=inshorts \" onclick=\"track_GA_Mixpanel({'hitType': 'event', 'category': 'ReadMore', 'action': 'clicked', 'label': 'Twitter' });\" target=\"_blank\">Twitter</a>,\n",
       "  'category': 'business'},\n",
       " {'title': 'BCCI had ₹40 cr in bank when I joined & ₹47,680 cr when I was banned: Lalit',\n",
       "  'content': 'In an Instagram post, Lalit Modi asserted that he neither took any government favour nor any bribes from anyone. He added, “I was born with a diamond spoon...When I joined BCCI, it had ₹40 crore in the bank. I joined on my birthday on November 29, 2005. Guess what was in the bank when I was banned - ₹47,680 crore.\"',\n",
       "  'author': 'Ridham Gambhir',\n",
       "  'date': '17 Jul',\n",
       "  'source': <a class=\"source\" href=\"https://www.instagram.com/p/CgF1-KQteG6/?utm_campaign=fullarticle&amp;utm_medium=referral&amp;utm_source=inshorts \" onclick=\"track_GA_Mixpanel({'hitType': 'event', 'category': 'ReadMore', 'action': 'clicked', 'label': 'Instagram' });\" target=\"_blank\">Instagram</a>,\n",
       "  'category': 'business'},\n",
       " {'title': \"11 SEBI officials' email accounts hacked & used to send 34 emails, FIR filed\",\n",
       "  'content': 'Mumbai police has filed an FIR after the Securities and Exchange Board of India (SEBI) approached them, alleging the email accounts of its 11 officials had been hacked and used to send as many as 34 emails by unknown persons. \"It was a small incident. CERT-IN is fully in the loop. No sensitive data was lost,\" the markets regulator said.',\n",
       "  'author': 'Hiral Goyal',\n",
       "  'date': '17 Jul',\n",
       "  'source': <a class=\"source\" href=\"https://www.hindustantimes.com/india-news/email-accounts-of-11-sebi-officials-hacked-fir-registered-police-101657996692933-amp.html?utm_campaign=fullarticle&amp;utm_medium=referral&amp;utm_source=inshorts \" onclick=\"track_GA_Mixpanel({'hitType': 'event', 'category': 'ReadMore', 'action': 'clicked', 'label': 'Hindustan%20Times' });\" target=\"_blank\">Hindustan Times</a>,\n",
       "  'category': 'business'},\n",
       " {'title': 'It is not a sacrifice at all: Bill Gates on plan to give away all his wealth',\n",
       "  'content': 'Microsoft Co-founder Bill Gates, who plans to give away all his wealth, said, \"My giving this money is not a sacrifice at all.\" He added, \"I feel privileged to be involved in tackling these great challenges...and I believe I have an obligation to return my resources to society.\" Gates is currently the world\\'s fourth richest person with $113 billion wealth.',\n",
       "  'author': 'Hiral Goyal',\n",
       "  'date': '17 Jul',\n",
       "  'source': <a class=\"source\" href=\"https://www.hindustantimes.com/world-news/bill-gates-to-transfer-20-billion-to-his-non-profit-plan-to-give-all-wealth-101657868424218-amp.html?utm_campaign=fullarticle&amp;utm_medium=referral&amp;utm_source=inshorts \" onclick=\"track_GA_Mixpanel({'hitType': 'event', 'category': 'ReadMore', 'action': 'clicked', 'label': 'Hindustan%20Times' });\" target=\"_blank\">Hindustan Times</a>,\n",
       "  'category': 'business'},\n",
       " {'title': 'RBI is of the view that cryptocurrencies should be prohibited: FM Sitharaman',\n",
       "  'content': 'The Reserve Bank of India (RBI) has recommended to the government that it should frame regulations for cryptocurrencies and is of the view that they should be prohibited, Finance Minister Nirmala Sitharaman said. Citing the borderless nature of cryptocurrencies, she further said that any legislation for regulation or for banning can be effective only after significant international collaboration.',\n",
       "  'author': 'Hiral Goyal',\n",
       "  'date': '18 Jul',\n",
       "  'source': <a class=\"source\" href=\"https://www.moneycontrol.com/news/business/cryptocurrency/rbi-for-ban-on-cryptos-india-needs-global-support-to-make-it-effectrive-fm-sitharaman-8843351.html/amp?utm_campaign=fullarticle&amp;utm_medium=referral&amp;utm_source=inshorts \" onclick=\"track_GA_Mixpanel({'hitType': 'event', 'category': 'ReadMore', 'action': 'clicked', 'label': 'Moneycontrol' });\" target=\"_blank\">Moneycontrol</a>,\n",
       "  'category': 'business'},\n",
       " {'title': \"How a startup should operate: Mahindra on old video of Man City's 44-pass goal\",\n",
       "  'content': 'Businessman Anand Mahindra took to Twitter to share a 2018 video of Manchester City\\'s 44-pass goal against Manchester United and wrote, \"A lesson in teamwork...But also an analogy for how a startup...needs to operate.\" He further said that success comes from going \"back and forth, trying new angles of approach and going for the kill when strategic path is clear\".',\n",
       "  'author': 'Hiral Goyal',\n",
       "  'date': '17 Jul',\n",
       "  'source': <a class=\"source\" href=\"https://twitter.com/anandmahindra/status/1548545585598251008?utm_campaign=fullarticle&amp;utm_medium=referral&amp;utm_source=inshorts \" onclick=\"track_GA_Mixpanel({'hitType': 'event', 'category': 'ReadMore', 'action': 'clicked', 'label': 'Twitter' });\" target=\"_blank\">Twitter</a>,\n",
       "  'category': 'business'},\n",
       " {'title': \"Ex-NSE CEO Chitra's remand extended by 4 days in money laundering case\",\n",
       "  'content': \"A Delhi court has extended the four-day remand of former CEO and MD of National Stock Exchange (NSE), Chitra Ramkrishna, in a money laundering case. The case involves alleged phone tapping and snooping of NSE's employees. Earlier, the Enforcement Directorate and CBI registered two more cases against Ramkrishna, former NSE head Ravi Narain and former Mumbai Police Commissioner Sanjay Pandey.\",\n",
       "  'author': 'Shreyasi Banerjee',\n",
       "  'date': '18 Jul',\n",
       "  'source': <a class=\"source\" href=\"https://www.hindustantimes.com/india-news/breaking-news-live-updates-july-18-2022-101658102817285-amp.html?utm_campaign=fullarticle&amp;utm_medium=referral&amp;utm_source=inshorts \" onclick=\"track_GA_Mixpanel({'hitType': 'event', 'category': 'ReadMore', 'action': 'clicked', 'label': 'Hindustan%20Times' });\" target=\"_blank\">Hindustan Times</a>,\n",
       "  'category': 'business'},\n",
       " {'title': 'Which household items will get costlier from tomorrow due to changes in GST rules?',\n",
       "  'content': \"Pre-packaged and labelled food items like curd, lassi and buttermilk will get costlier from July 18 as they'll attract 5% GST. Jaggery, khandsari sugar, puffed rice will no longer be exempt from GST. Kitchen utensils like knives, spoons, forks, and stationery items like pencil sharpeners, maps, globes and electrical appliances such as LED lights and fixtures will also get costlier.\",\n",
       "  'author': 'Hiral Goyal',\n",
       "  'date': '17 Jul',\n",
       "  'source': <a class=\"source\" href=\"https://www.bqprime.com/business/gst-grocery-mango-pulp-holidays-and-more-heres-what-costs-more-from-july-18?utm_campaign=fullarticle&amp;utm_medium=referral&amp;utm_source=inshorts \" onclick=\"track_GA_Mixpanel({'hitType': 'event', 'category': 'ReadMore', 'action': 'clicked', 'label': 'BQ%20Prime' });\" target=\"_blank\">BQ Prime</a>,\n",
       "  'category': 'business'},\n",
       " {'title': 'New Zealand inflation surges to 7.3%, highest since 1990',\n",
       "  'content': 'Inflation in New Zealand has surged at its fastest pace in over three decades. As per official data, the Consumer Price Index increased 7.3% in the second quarter, up from 6.9% in the first quarter and the fastest since the June quarter of 1990 when prices rose 7.6%. Economists had predicted that inflation would come in at 7% or 7.1%.',\n",
       "  'author': 'Ridham Gambhir',\n",
       "  'date': '18 Jul',\n",
       "  'source': <a class=\"source\" href=\"https://www.reuters.com/markets/currencies/new-zealands-inflation-hits-3-decade-high-raising-bets-sharper-rate-hikes-2022-07-18/?utm_campaign=fullarticle&amp;utm_medium=referral&amp;utm_source=inshorts \" onclick=\"track_GA_Mixpanel({'hitType': 'event', 'category': 'ReadMore', 'action': 'clicked', 'label': 'Reuters' });\" target=\"_blank\">Reuters</a>,\n",
       "  'category': 'business'},\n",
       " {'title': 'Saudi Arabia doubled Russian oil imports in Q2, freeing up own oil for exports: Report',\n",
       "  'content': \"The world's largest oil exporter, Saudi Arabia, more than doubled its Russian oil imports in the second quarter, enabling it to free up its own crude for export, as per data accessed by Reuters. It imported 6,47,000 tonnes of Russian oil from April to June. Russia has been selling fuel at discounted prices amid Western sanctions over the Ukraine war.\",\n",
       "  'author': 'Ridham Gambhir',\n",
       "  'date': '18 Jul',\n",
       "  'source': <a class=\"source\" href=\"https://www.reuters.com/business/energy/exclusive-saudi-arabia-doubles-q2-russian-fuel-oil-imports-power-generation-2022-07-14/?utm_campaign=fullarticle&amp;utm_medium=referral&amp;utm_source=inshorts \" onclick=\"track_GA_Mixpanel({'hitType': 'event', 'category': 'ReadMore', 'action': 'clicked', 'label': 'Reuters' });\" target=\"_blank\">Reuters</a>,\n",
       "  'category': 'business'},\n",
       " {'title': \"Sunak praises father-in-law Narayana Murthy, says 'His firm employs thousands in UK'\",\n",
       "  'content': 'One of the frontrunners for the UK PM\\'s post, Rishi Sunak, said he is proud of what his parents-in-law built. Speaking about Infosys Founder NR Narayana Murthy, Sunak said, \"My father-in-law came from...nothing and just had a dream and a couple of hundred pounds [from my] mother-in-law\\'s savings…He...built one of the world\\'s largest...companies that...employs thousands of people...in the UK.\"',\n",
       "  'author': 'Ridham Gambhir',\n",
       "  'date': '18 Jul',\n",
       "  'source': <a class=\"source\" href=\"https://www.moneycontrol.com/news/trends/current-affairs-trends/rishi-sunak-on-father-in-law-narayana-murthy-came-from-nothing-and-just-had-dream-8842381.html/amp?utm_campaign=fullarticle&amp;utm_medium=referral&amp;utm_source=inshorts \" onclick=\"track_GA_Mixpanel({'hitType': 'event', 'category': 'ReadMore', 'action': 'clicked', 'label': 'Moneycontrol' });\" target=\"_blank\">Moneycontrol</a>,\n",
       "  'category': 'business'},\n",
       " {'title': 'What goods & services get cheaper as new GST rates come into effect today?',\n",
       "  'content': 'Electric vehicles, whether or not fitted with a battery pack, will be eligible for the concessional GST rate of 5% from July 18. GST on renting trucks, and goods carriages (where the cost of fuel is included) will be cut to 12% from 18%. GST on ostomy appliances and orthopaedic equipment like splints will be reduced from 12% to 5%.',\n",
       "  'author': 'Ridham Gambhir',\n",
       "  'date': '18 Jul',\n",
       "  'source': <a class=\"source\" href=\"https://www.hindustantimes.com/india-news/new-gst-rates-today-onwards-check-what-s-costlier-what-s-cheaper-here-101658107148723-amp.html?utm_campaign=fullarticle&amp;utm_medium=referral&amp;utm_source=inshorts \" onclick=\"track_GA_Mixpanel({'hitType': 'event', 'category': 'ReadMore', 'action': 'clicked', 'label': 'Hindustan%20Times' });\" target=\"_blank\">Hindustan Times</a>,\n",
       "  'category': 'business'},\n",
       " {'title': 'Fortune cooking oil prices cut by up to ₹30 per litre by Adani Wilmar',\n",
       "  'content': \"Prices of one of the most popular Indian edible oil brands Fortune have been cut by up to ₹30 per litre amid a fall in global prices. This is the second oil price reduction announced by the brand's maker Adani Wilmar in two months. Prices of soyabean and sunflower oils have been cut to ₹165 and ₹195 per litre, respectively.\",\n",
       "  'author': 'Sakshita Khosla',\n",
       "  'date': '18 Jul',\n",
       "  'source': None,\n",
       "  'category': 'business'},\n",
       " {'title': 'HUL, ITC, United Spirits added 130 execs to crorepati club last fiscal: Report',\n",
       "  'content': 'Hindustan Unilever (HUL), ITC and United Spirits together added over 130 executives to the club of those earning more than ₹1 crore annually during the last fiscal, The Economic Times reported. United Spirits witnessed a massive jump of 113%, whereas HUL and ITC saw 33% and 44% increase in the number of eight-figure salary earners, as per their annual reports.',\n",
       "  'author': 'Hiral Goyal',\n",
       "  'date': '18 Jul',\n",
       "  'source': <a class=\"source\" href=\"https://www.timesnownews.com/business-economy/companies/hul-itc-and-united-spirits-together-add-over-400-employees-to-the-crorepati-club-article-92943972/amp?utm_campaign=fullarticle&amp;utm_medium=referral&amp;utm_source=inshorts \" onclick=\"track_GA_Mixpanel({'hitType': 'event', 'category': 'ReadMore', 'action': 'clicked', 'label': 'Times%20Now' });\" target=\"_blank\">Times Now</a>,\n",
       "  'category': 'business'},\n",
       " {'title': \"Plea to stop SpiceJet's operations amid recent mishaps dismissed by Delhi HC\",\n",
       "  'content': \"The Delhi High Court dismissed a plea seeking to stop the operations of SpiceJet over recent technical snags. The plea cited several incidents involving SpiceJet flights and claimed that passengers' lives are at risk due to their improper management. The DGCA has taken note of incidents involving SpiceJet flights and is free to proceed on its own, the court noted.\",\n",
       "  'author': 'Hiral Goyal',\n",
       "  'date': '18 Jul',\n",
       "  'source': <a class=\"source\" href=\"https://www.freepressjournal.in/amp/india/delhi-hc-dismisses-to-stop-spicejet-operations-over-recent-glitches?utm_campaign=fullarticle&amp;utm_medium=referral&amp;utm_source=inshorts \" onclick=\"track_GA_Mixpanel({'hitType': 'event', 'category': 'ReadMore', 'action': 'clicked', 'label': 'Free%20Press%20Journal' });\" target=\"_blank\">Free Press Journal</a>,\n",
       "  'category': 'business'},\n",
       " {'title': \"Bill & Melinda Gates Foundation's half resources have come from Warren: Bill Gates\",\n",
       "  'content': 'In a blog, Microsoft Co-founder Bill Gates said that though the foundation is named Bill & Melinda Gates Foundation, \"half of its resources to date have come from Warren Buffett\\'s gifts\". Gates wrote, \"Since 2006, Warren has gifted the foundation $35.7 billion, including his most recent gift of $3.1 billion in June.\"',\n",
       "  'author': 'Ridham Gambhir',\n",
       "  'date': '18 Jul',\n",
       "  'source': <a class=\"source\" href=\"https://www.moneycontrol.com/news/trends/current-affairs-trends/warren-buffetts-gifts-to-bill-gates-foundation-are-worth-8842941.html/amp?utm_campaign=fullarticle&amp;utm_medium=referral&amp;utm_source=inshorts \" onclick=\"track_GA_Mixpanel({'hitType': 'event', 'category': 'ReadMore', 'action': 'clicked', 'label': 'Moneycontrol' });\" target=\"_blank\">Moneycontrol</a>,\n",
       "  'category': 'business'},\n",
       " {'title': 'Pakistani rupee falls to all-time low of 212 against US dollar',\n",
       "  'content': 'The Pakistani rupee has dropped to a record low against the US dollar with the exchange rate sliding to PKR 212, local media reported on Monday. This fall in the value came after traders resorted to panic buying on reports that some commercial banks had run out of foreign currency, reports stated.',\n",
       "  'author': 'Anmol Sharma',\n",
       "  'date': '18 Jul',\n",
       "  'source': <a class=\"source\" href=\"https://www.hindustantimes.com/world-news/pakistani-rupee-nosedives-to-all-time-low-of-212-against-us-dollar-101658144074943-amp.html?utm_campaign=fullarticle&amp;utm_medium=referral&amp;utm_source=inshorts \" onclick=\"track_GA_Mixpanel({'hitType': 'event', 'category': 'ReadMore', 'action': 'clicked', 'label': 'Hindustan%20Times' });\" target=\"_blank\">Hindustan Times</a>,\n",
       "  'category': 'business'},\n",
       " {'title': 'SEBI clears appointment of BSE chief Ashish Chauhan as new NSE CEO & MD',\n",
       "  'content': 'The Securities and Exchange Board of India has approved the appointment of Ashish Kumar Chauhan as the new MD and CEO of the NSE. Chauhan is currently the MD and CEO of the BSE and will replace Vikram Limaye whose term ended as NSE chief on July 16. The appointment is subject to Chauhan accepting the offer. ',\n",
       "  'author': 'Ridham Gambhir',\n",
       "  'date': '18 Jul',\n",
       "  'source': <a class=\"source\" href=\"https://www.moneycontrol.com/news/business/sebi-approves-ashish-chauhan-as-the-next-nse-head-8838641.html/amp?utm_campaign=fullarticle&amp;utm_medium=referral&amp;utm_source=inshorts \" onclick=\"track_GA_Mixpanel({'hitType': 'event', 'category': 'ReadMore', 'action': 'clicked', 'label': 'Moneycontrol' });\" target=\"_blank\">Moneycontrol</a>,\n",
       "  'category': 'business'},\n",
       " {'title': 'No GST on pre-packed, labelled food items weighing over 25 kg: Finance Ministry',\n",
       "  'content': 'The Finance Ministry has clarified that single packages of pre-packed and labelled food items like cereals and pulses weighing over 25 kg are exempt from 5% GST. It added that if a retail shopkeeper supplies an item in a loose quantity that was bought in a 25-kg pack from a manufacturer, its sale to the consumer will not attract GST.',\n",
       "  'author': 'Ridham Gambhir',\n",
       "  'date': '18 Jul',\n",
       "  'source': <a class=\"source\" href=\"https://www.hindustantimes.com/business/commodities-in-packs-of-over-25kg-won-t-attract-gst-finance-ministry-101658123482694-amp.html?utm_campaign=fullarticle&amp;utm_medium=referral&amp;utm_source=inshorts \" onclick=\"track_GA_Mixpanel({'hitType': 'event', 'category': 'ReadMore', 'action': 'clicked', 'label': 'Hindustan%20Times' });\" target=\"_blank\">Hindustan Times</a>,\n",
       "  'category': 'business'},\n",
       " {'title': 'Scindia chairs meet with heads of airline companies on safety issues',\n",
       "  'content': 'Civil Aviation Minister Jyotiraditya Scindia chaired a one-on-one meeting with heads of airline companies on Monday to review flight safety norms. The Aviation Ministry also issued instructions to each airline to take steps at all levels to enhance security surveillance. These steps come after a few Indian airlines reported back-to-back incidents of emergency landings due to technical issues.',\n",
       "  'author': 'Subhangi Singh',\n",
       "  'date': '18 Jul',\n",
       "  'source': <a class=\"source\" href=\"https://twitter.com/ANI/status/1548946559492304898?utm_campaign=fullarticle&amp;utm_medium=referral&amp;utm_source=inshorts \" onclick=\"track_GA_Mixpanel({'hitType': 'event', 'category': 'ReadMore', 'action': 'clicked', 'label': 'Twitter' });\" target=\"_blank\">Twitter</a>,\n",
       "  'category': 'business'},\n",
       " {'title': \"Hyd authority's one-time scheme offers 90% waiver on property tax arrears\",\n",
       "  'content': 'The Telangana government has announced a one-time scheme (OTS) for clearing pending property tax arrears within Greater Hyderabad Municipal Corporation (GHMC) limits and all other urban local bodies. The scheme will allow a waiver of 90% on interest payment, provided that the principal amount plus 10% of interest on accumulated arrears is paid in one go for financial year 2021-22.',\n",
       "  'author': 'Subhangi Singh',\n",
       "  'date': '18 Jul',\n",
       "  'source': <a class=\"source\" href=\"https://www.siasat.com/hyderabad-90-waiver-on-property-tax-using-one-time-scheme-2371508/?utm_campaign=fullarticle&amp;utm_medium=referral&amp;utm_source=inshorts \" onclick=\"track_GA_Mixpanel({'hitType': 'event', 'category': 'ReadMore', 'action': 'clicked', 'label': 'The%20Siasat%20Daily' });\" target=\"_blank\">The Siasat Daily</a>,\n",
       "  'category': 'business'},\n",
       " {'title': 'Swedish fashion retailer H&M to exit Russia amid Ukraine war',\n",
       "  'content': 'Swedish fashion retailer H&M said that it will exit from Russia after pausing sales there in March after Moscow\\'s invasion of Ukraine. \"After careful consideration, we see it as impossible given the current situation to continue our business in Russia,\" Chief Executive Helena Helmersson said in a statement. H&M said the move will cost $200 million and affect 6,000 staff. ',\n",
       "  'author': 'Anisha Joneja',\n",
       "  'date': '18 Jul',\n",
       "  'source': <a class=\"source\" href=\"https://www.reuters.com/business/retail-consumer/hm-says-wind-down-russia-2022-07-18/?utm_campaign=fullarticle&amp;utm_medium=referral&amp;utm_source=inshorts \" onclick=\"track_GA_Mixpanel({'hitType': 'event', 'category': 'ReadMore', 'action': 'clicked', 'label': 'Reuters' });\" target=\"_blank\">Reuters</a>,\n",
       "  'category': 'business'},\n",
       " {'title': '6 of top 10 most valued firms lost ₹1.68 lakh crore in m-cap last week',\n",
       "  'content': 'Among the 10 most valued firms, six companies suffered a combined loss of ₹1.68 lakh crore in their market valuation last week. While TCS took the biggest hit as its market valuation declined by ₹99,270.07 crore to reach ₹10,95,355.32 crore, it was followed by Infosys, whose valuation dropped by ₹35,133.64 crore to ₹6,01,900.14 crore.',\n",
       "  'author': 'Ridham Gambhir',\n",
       "  'date': '17 Jul',\n",
       "  'source': <a class=\"source\" href=\"https://www.moneycontrol.com/news/business/markets/six-of-top-10-firms-lose-rs-1-68-lakh-crore-in-m-cap-tcs-biggest-laggard-8838761.html/amp?utm_campaign=fullarticle&amp;utm_medium=referral&amp;utm_source=inshorts \" onclick=\"track_GA_Mixpanel({'hitType': 'event', 'category': 'ReadMore', 'action': 'clicked', 'label': 'Moneycontrol' });\" target=\"_blank\">Moneycontrol</a>,\n",
       "  'category': 'business'}]"
      ]
     },
     "execution_count": 37,
     "metadata": {},
     "output_type": "execute_result"
    }
   ],
   "source": [
    "#testing:\n",
    "parse_news_page('business')"
   ]
  },
  {
   "cell_type": "markdown",
   "id": "a0c68ecc",
   "metadata": {},
   "source": [
    "Creating a function that loops through all articles\n",
    "- create a list of my titles\n",
    "- create a list of my content\n",
    "- create a list of authors\n",
    "- create a list of dates\n",
    "- create a list of source\n",
    "- create a list of category"
   ]
  },
  {
   "cell_type": "code",
   "execution_count": 38,
   "id": "cb538d7d",
   "metadata": {},
   "outputs": [],
   "source": [
    "#creating one function that grabs all categories and \n",
    "#puts them into one dictionary, while adding a cache of the data:\n",
    "\n",
    "def get_news_articles(use_cache = True):\n",
    "    if os.path.exists('news_articles.json') and use_cache:\n",
    "        return pd.read_json('news_articles.json')\n",
    "    \n",
    "    categories = ['business', 'sports', 'technology', 'entertainment']\n",
    "    \n",
    "    articles = []\n",
    "    \n",
    "    for category in categories:\n",
    "        print(f'Getting {category} articles')\n",
    "        articles.extend(parse_news_page(category))\n",
    "        \n",
    "    df = pd.DataFrame(articles)\n",
    "    df.to_json('news_articles.json', orient ='records')\n",
    "    return df\n",
    "    "
   ]
  },
  {
   "cell_type": "code",
   "execution_count": 39,
   "id": "3d49f21a",
   "metadata": {},
   "outputs": [
    {
     "name": "stdout",
     "output_type": "stream",
     "text": [
      "Getting business articles\n",
      "Getting sports articles\n",
      "Getting technology articles\n",
      "Getting entertainment articles\n"
     ]
    }
   ],
   "source": [
    "#testing (note: print and function data from Kristofer Rivera)\n",
    "df = get_news_articles()"
   ]
  },
  {
   "cell_type": "code",
   "execution_count": 40,
   "id": "fc973783",
   "metadata": {},
   "outputs": [
    {
     "data": {
      "text/html": [
       "<div>\n",
       "<style scoped>\n",
       "    .dataframe tbody tr th:only-of-type {\n",
       "        vertical-align: middle;\n",
       "    }\n",
       "\n",
       "    .dataframe tbody tr th {\n",
       "        vertical-align: top;\n",
       "    }\n",
       "\n",
       "    .dataframe thead th {\n",
       "        text-align: right;\n",
       "    }\n",
       "</style>\n",
       "<table border=\"1\" class=\"dataframe\">\n",
       "  <thead>\n",
       "    <tr style=\"text-align: right;\">\n",
       "      <th></th>\n",
       "      <th>title</th>\n",
       "      <th>content</th>\n",
       "      <th>author</th>\n",
       "      <th>date</th>\n",
       "      <th>source</th>\n",
       "      <th>category</th>\n",
       "    </tr>\n",
       "  </thead>\n",
       "  <tbody>\n",
       "    <tr>\n",
       "      <th>0</th>\n",
       "      <td>Rupee hits record low of 79.97 against US dollar</td>\n",
       "      <td>The rupee hit a record low of 79.97 against th...</td>\n",
       "      <td>Ridham Gambhir</td>\n",
       "      <td>18 Jul</td>\n",
       "      <td>[Twitter]</td>\n",
       "      <td>business</td>\n",
       "    </tr>\n",
       "    <tr>\n",
       "      <th>1</th>\n",
       "      <td>Rupee closes at an all-time low of 79.98 again...</td>\n",
       "      <td>The rupee on Monday hit a fresh record low as ...</td>\n",
       "      <td>Ridham Gambhir</td>\n",
       "      <td>18 Jul</td>\n",
       "      <td>[Moneycontrol]</td>\n",
       "      <td>business</td>\n",
       "    </tr>\n",
       "    <tr>\n",
       "      <th>2</th>\n",
       "      <td>A fighter to the core: Mahindra praises PV Sin...</td>\n",
       "      <td>Businessman Anand Mahindra took to Twitter to ...</td>\n",
       "      <td>Ridham Gambhir</td>\n",
       "      <td>17 Jul</td>\n",
       "      <td>[Twitter]</td>\n",
       "      <td>business</td>\n",
       "    </tr>\n",
       "    <tr>\n",
       "      <th>3</th>\n",
       "      <td>BCCI had ₹40 cr in bank when I joined &amp; ₹47,68...</td>\n",
       "      <td>In an Instagram post, Lalit Modi asserted that...</td>\n",
       "      <td>Ridham Gambhir</td>\n",
       "      <td>17 Jul</td>\n",
       "      <td>[Instagram]</td>\n",
       "      <td>business</td>\n",
       "    </tr>\n",
       "    <tr>\n",
       "      <th>4</th>\n",
       "      <td>11 SEBI officials' email accounts hacked &amp; use...</td>\n",
       "      <td>Mumbai police has filed an FIR after the Secur...</td>\n",
       "      <td>Hiral Goyal</td>\n",
       "      <td>17 Jul</td>\n",
       "      <td>[Hindustan Times]</td>\n",
       "      <td>business</td>\n",
       "    </tr>\n",
       "  </tbody>\n",
       "</table>\n",
       "</div>"
      ],
      "text/plain": [
       "                                               title  \\\n",
       "0   Rupee hits record low of 79.97 against US dollar   \n",
       "1  Rupee closes at an all-time low of 79.98 again...   \n",
       "2  A fighter to the core: Mahindra praises PV Sin...   \n",
       "3  BCCI had ₹40 cr in bank when I joined & ₹47,68...   \n",
       "4  11 SEBI officials' email accounts hacked & use...   \n",
       "\n",
       "                                             content          author    date  \\\n",
       "0  The rupee hit a record low of 79.97 against th...  Ridham Gambhir  18 Jul   \n",
       "1  The rupee on Monday hit a fresh record low as ...  Ridham Gambhir  18 Jul   \n",
       "2  Businessman Anand Mahindra took to Twitter to ...  Ridham Gambhir  17 Jul   \n",
       "3  In an Instagram post, Lalit Modi asserted that...  Ridham Gambhir  17 Jul   \n",
       "4  Mumbai police has filed an FIR after the Secur...     Hiral Goyal  17 Jul   \n",
       "\n",
       "              source  category  \n",
       "0          [Twitter]  business  \n",
       "1     [Moneycontrol]  business  \n",
       "2          [Twitter]  business  \n",
       "3        [Instagram]  business  \n",
       "4  [Hindustan Times]  business  "
      ]
     },
     "execution_count": 40,
     "metadata": {},
     "output_type": "execute_result"
    }
   ],
   "source": [
    "#viewing head:\n",
    "df.head()"
   ]
  },
  {
   "cell_type": "markdown",
   "id": "55490788",
   "metadata": {},
   "source": [
    "<b> ANOTHER WAY OF DOING THIS; AGAIN, NOT JUST USING THE URLS BUT SCRAPING THE NEWS WEB PAGE ITSELF AND ALL CATEGORIES (NOT JUST THE ONES IN THE EXERCISE)</b>"
   ]
  },
  {
   "cell_type": "code",
   "execution_count": 41,
   "id": "e0372403",
   "metadata": {},
   "outputs": [],
   "source": [
    "url = 'https://inshorts.com/en/read/'\n",
    "headers = {'User-Agent': 'Codeup Data Science'}\n",
    "response = get(url, headers=headers)\n",
    "\n",
    "soup = BeautifulSoup (response.content, 'html.parser')"
   ]
  },
  {
   "cell_type": "code",
   "execution_count": 42,
   "id": "d34a60fb",
   "metadata": {},
   "outputs": [
    {
     "data": {
      "text/plain": [
       "[<span itemprop=\"headline\">Veteran Bollywood singer Bhupinder Singh passes away at 82</span>,\n",
       " <span itemprop=\"headline\">West can't isolate Russia &amp; reverse its development by decades: Putin</span>,\n",
       " <span itemprop=\"headline\">CBI arrests 8 persons for alleged malpractices in NEET UG 2022 exam</span>,\n",
       " <span itemprop=\"headline\">If I get 20 minutes with Virat Kohli, I might be able to help him: Sunil Gavaskar</span>,\n",
       " <span itemprop=\"headline\">Report claims Ronaldo to join Sporting CP as car seen at stadium, he calls it 'fake'</span>,\n",
       " <span itemprop=\"headline\">Hardik Pandya shares video of his journey from injury rehab to India comeback</span>,\n",
       " <span itemprop=\"headline\">Male model, friend arrested with cannabis worth ₹1cr; supplied drugs in DU campus</span>,\n",
       " <span itemprop=\"headline\">Rail Ministry shares before-after pics of Gauriganj Station, says 'Glimpse of new India'</span>,\n",
       " <span itemprop=\"headline\">Precaution dose needed as protection is declining: COVID task force</span>,\n",
       " <span itemprop=\"headline\">This Indian bowling unit is excellent: Siraj after ODI series win vs England</span>,\n",
       " <span itemprop=\"headline\">2-time Olympic champion Crouser wins 1st shot put world gold in US sweep</span>,\n",
       " <span itemprop=\"headline\">Goa reports 100% voter turnout in Presidential polls</span>,\n",
       " <span itemprop=\"headline\">iVOOMi Energy to set up Electric Vehicle manufacturing unit in Pune</span>,\n",
       " <span itemprop=\"headline\">General Aeronautics commences commercial production of agri drones</span>,\n",
       " <span itemprop=\"headline\">Zoho to hire 2,000 people as it looks to expand globally</span>,\n",
       " <span itemprop=\"headline\">BJP MP pledges salary to family of Udaipur tailor, gets death threat</span>,\n",
       " <span itemprop=\"headline\">Stay alert: Uttarakhand CM to officials amid heavy rainfall alert</span>,\n",
       " <span itemprop=\"headline\">Yasin Malik to go on hunger strike if 'fair trial' demand not met</span>,\n",
       " <span itemprop=\"headline\">Terror hideout busted by security forces in J&amp;K's Ramban district</span>,\n",
       " <span itemprop=\"headline\">J&amp;K LG announces 10% reservation for 'Agniveers' in police</span>,\n",
       " <span itemprop=\"headline\">India and Fiji hold 5th Foreign Office Consultations in Suva</span>,\n",
       " <span itemprop=\"headline\">Bajrang Dal activist attacked in Uttar Pradesh</span>,\n",
       " <span itemprop=\"headline\">4 people shot at nightclub in Spain, suspected attacker stabbed</span>,\n",
       " <span itemprop=\"headline\">Nearly half of EU territory at drought risk as Europe braces heatwave</span>,\n",
       " <span itemprop=\"headline\">UK residents asked to stay indoors as temp expected to breach 40°C</span>]"
      ]
     },
     "execution_count": 42,
     "metadata": {},
     "output_type": "execute_result"
    }
   ],
   "source": [
    "#see if we can find all titles\n",
    "soup.find_all('span', itemprop='headline')"
   ]
  },
  {
   "cell_type": "code",
   "execution_count": 43,
   "id": "6dfd1be4",
   "metadata": {},
   "outputs": [
    {
     "data": {
      "text/plain": [
       "[<div itemprop=\"articleBody\">Veteran Bollywood playback and ghazal singer Bhupinder Singh has passed away of a colon ailment at 82 in Mumbai. Singh is known for songs like 'Naam Gum Jayega', 'Kabhi Kisi Ko Mukammal Jahan Nahi Milta' and 'Hothon Pe Aisi Baat'. He's also been credited as a guitarist in famous Bollywood songs like 'Dum Maro Dum' and 'Mehbooba O Mehbooba'.</div>,\n",
       " <div itemprop=\"articleBody\">Russian President Vladimir Putin said on Monday that it's impossible for the West to isolate Russia from the rest of the world and reverse the country's development back by \"decades\". Putin added that Russia will have to develop its own domestic technology. Western countries, including the US and UK, imposed several financial sanctions on Russia following its invasion of Ukraine.</div>,\n",
       " <div itemprop=\"articleBody\">The Central Bureau of Investigation (CBI) arrested eight people on Monday for alleged malpractices in NEET UG 2022 exam held on July 17. The CBI claimed that candidates' user IDs and passwords were collected by the accused, who made necessary modifications to get desired examination centres. The accused also tried to morph photographs to facilitate use of proxy candidates.</div>,\n",
       " <div itemprop=\"articleBody\">Amid Virat Kohli's poor form, Sunil Gavaskar said, \"If I had about 20 minutes with him...I'd...tell him the things he might've to do. It might help him.\" He added, \"Having been an opening batter...having been troubled by [off-stump] line...there are certain things that you try and do. If I get 20 minutes...I might be able to tell him.\"</div>,\n",
       " <div itemprop=\"articleBody\">Manchester United forward Cristiano Ronaldo has branded reports of a return to Sporting CP on loan as 'fake'. Reports had emerged from Portugal on Sunday claiming the Manchester United forward was at Sporting CP's Jose Alvalade Stadium to discuss a loan return to his boyhood club. A report had also included a picture of Ronaldo's car in the stadium.</div>,\n",
       " <div itemprop=\"articleBody\">Team India all-rounder Hardik Pandya took to social media to share a video of his journey from injury rehab to Team India comeback. He wrote, \"Through the ups and downs...with my people by my side. Woke up every morning raring to go...with the will to become fitter and play for my country. Always grateful to those who stood by me.\"</div>,\n",
       " <div itemprop=\"articleBody\">A 25-year-old Delhi-based model named Shubham Malhotra and his 27-year-old friend Kriti have been arrested with premium quality 'charas' (cannabis) worth ₹1 crore. The duo allegedly supplied drugs to youngsters around the Delhi University (DU) campus. They were allegedly procuring 'charas' from Himachal Pradesh's Malana and transporting it to Delhi hidden in a pillow in their car.</div>,\n",
       " <div itemprop=\"articleBody\">The Ministry of Railways took to Twitter to share before-after pictures of Gauriganj Station, which is situated in Uttar Pradesh. \"Glimpse of new India: Gauriganj Station,\" the ministry wrote alongside the tweet. \"Superb,\" a user commented on the post. The station is located in Uttar Pradesh's Amethi district.</div>,\n",
       " <div itemprop=\"articleBody\">National Task Force on COVID-19 head Dr VK Paul on Monday said the precaution dose of the vaccine is needed as the protection against the virus is declining. \"We need to have optimal protection beyond six months of second dose. The precaution dose must be pushed in mission mode,\" he said. Paul added that there is fatigue in people's mind.</div>,\n",
       " <div itemprop=\"articleBody\">Speaking about India's bowling performance in the recently concluded three-match ODI series against England, pacer Mohammed Siraj stated that the current Indian bowling unit is excellent. \"Like how Hardik Pandya came in and took the wickets of their well-set batters [in third ODI], that phase was really crucial for...team,\" he added. India bowled out England in all three ODIs.</div>,\n",
       " <div itemprop=\"articleBody\">Two-time Olympic gold medallist and world record holder Ryan Crouser won his first shot put gold medal at World Athletics Championships in Oregon on Sunday as he led a US clean sweep with a championship record throw of 22.94 metres. Defending champion Joe Kovacs threw 22.89 metres to clinch silver, while Josh Awotunde won bronze with a 22.29-metre throw.</div>,\n",
       " <div itemprop=\"articleBody\">All 40 eligible members of the Goa Legislative Assembly, including CM Pramod Sawant, voted in the Presidential elections on Monday. The polling started at 10 am and all 40 MLAs had voted by 1:50 pm, Secretary of the Goa Legislative Assembly Namrata Ulman said. She added that the polling was conducted smoothly and no complaints or objections were raised.</div>,\n",
       " <div itemprop=\"articleBody\">iVOOMi Energy will set up an Electric Vehicle manufacturing unit in Pune with a ₹200 crore investment to enhance research and development. iVOOMi Energy aims to roll out more than 2,00,000 units by the end of FY23. The manufacturing plant will be operational from March 2023, and will provide employment to 2,000 people, the company said in a statement. </div>,\n",
       " <div itemprop=\"articleBody\">Drone startup General Aeronautics has started the commercial production of agriculture drones with an aim to produce 100 units monthly. The startup had been conducting trials for the last three years, the results of which have been validated by 15 agricultural institutes, Srikanth Srinivasan, Head of Sales and Marketing, General Aeronautics said. The manufactured drone is named 'Krishak.'</div>,\n",
       " <div itemprop=\"articleBody\">Software-as-a-service (SaaS) startup Zoho is planning to hire 2,000 people across various roles in engineering, design, content and sales as it looks to expand its operations in India and globally. Speaking to Economic Times, Prashant Ganti, head of products, tax, accounting and payroll at Zoho, said that the company plans to grow organically and expand to other geographies.</div>,\n",
       " <div itemprop=\"articleBody\">BJP MP from Rajasthan Kirodi Lal Meena on Monday said that he has received a death threat via a letter for pledging his one month's salary to the family of Udaipur-based tailor Kanhaiya Lal. The letter says that whoever insults the Prophet or helps those insulting the Prophet will be killed, even if they are big leaders. </div>,\n",
       " <div itemprop=\"articleBody\">In view of the Indian Meteorological Department's (IMD) heavy rainfall forecast for Uttarakhand, CM Pushkar Singh Dhami has asked all District Magistrates to be on high alert. He also appealed to tourists and citizens to stay away from rivers and rivulets to avoid accidents. The IMD has issued a red alert in seven districts of the state for July 20.</div>,\n",
       " <div itemprop=\"articleBody\">Kashmiri separatist leader Yasin Malik said that he will go on hunger strike from July 22 if his demands for a fair trial are not met, the Jammu and Kashmir Liberation Front (JKLF) stated. Malik moved an application to the Centre seeking personal appearance in two cases. He is currently serving a life sentence in a terror funding case. </div>,\n",
       " <div itemprop=\"articleBody\">Security forces busted a terror hideout and seized a cache of ammunition and explosives in J&amp;K's Ramban district on Monday, officials informed. The hideout was detected during a joint search operation by the Rashtriya Rifles and the police, officials added. According to officials, a grenade, 35 AK rounds, explosive material and seven pistol rounds were among the items seized.</div>,\n",
       " <div itemprop=\"articleBody\">J&amp;K LG Manoj Sinha on Sunday announced a 10% reservation in the UT's police force for those who retire after serving in the military under the Agnipath scheme, PTI reported. Sinha said that his decision was influenced by the suggestion of two youths from Jammu. He further directed state officials to ensure that aspiring 'Agniveers' get the resources they need.</div>,\n",
       " <div itemprop=\"articleBody\">Delegations from India and Fiji held the fifth Foreign Office Consultations on Monday in Suva during which the entire gamut of bilateral relations between the countries was reviewed, the Indian High Commission in Suva said. The two sides also discussed ways to strengthen bilateral ties, the mission added. It further informed that the Indian delegation met senior Fijian cabinet ministers.</div>,\n",
       " <div itemprop=\"articleBody\">A Bajrang Dal activist, Prashant Saini, was attacked in Uttar Pradesh's Saharanpur district by unidentified miscreants, the police said. Saini was on his way to pick up his son from school when he was attacked by five-six men, Additional Superintendent of Police Rajesh Kumar said. The activist was rushed to the hospital while an FIR was registered against the attackers.</div>,\n",
       " <div itemprop=\"articleBody\">Four people were shot and one other was stabbed with a knife at a nightclub in the Spanish town of Marbella, police said on Monday. The person who was stabbed is suspected to be the one who opened fire, police added. Police informed that two of the four people who were shot and the suspect were in serious condition.</div>,\n",
       " <div itemprop=\"articleBody\">Nearly half of EU's territory is at risk of drought, the European Commission said on Monday as several parts of the continent are currently bracing heatwaves. EU researchers have also warned that lack of water and strong heat are driving crop yields lower in France, Romania, Spain, Portugal and Italy. Notably, Italy's longest river Po has significantly shrunk in size.</div>,\n",
       " <div itemprop=\"articleBody\">People in the UK are being advised to stay indoors and avoid non-essential travel as the country may experience temperatures above 40°C on Monday or Tuesday for the first time since records began. The advisory comes as the country has issued its first-ever red alert for extreme heat amid unprecedented temperatures. Notably, several regions in Europe are experiencing heatwaves.</div>]"
      ]
     },
     "execution_count": 43,
     "metadata": {},
     "output_type": "execute_result"
    }
   ],
   "source": [
    "#see if we can find all the content text wanted:\n",
    "soup.find_all('div', itemprop ='articleBody')"
   ]
  },
  {
   "cell_type": "code",
   "execution_count": 44,
   "id": "65b9c307",
   "metadata": {},
   "outputs": [
    {
     "data": {
      "text/plain": [
       "\"Veteran Bollywood playback and ghazal singer Bhupinder Singh has passed away of a colon ailment at 82 in Mumbai. Singh is known for songs like 'Naam Gum Jayega', 'Kabhi Kisi Ko Mukammal Jahan Nahi Milta' and 'Hothon Pe Aisi Baat'. He's also been credited as a guitarist in famous Bollywood songs like 'Dum Maro Dum' and 'Mehbooba O Mehbooba'.\""
      ]
     },
     "execution_count": 44,
     "metadata": {},
     "output_type": "execute_result"
    }
   ],
   "source": [
    "#just seeing if it is grabbing the right data (compare to website)\n",
    "soup.find_all('div', itemprop ='articleBody')[0].text"
   ]
  },
  {
   "cell_type": "code",
   "execution_count": 45,
   "id": "818cce8b",
   "metadata": {},
   "outputs": [
    {
     "data": {
      "text/plain": [
       "[<li class=\"active-category selected\">All News</li>,\n",
       " <li class=\"active-category\">India</li>,\n",
       " <li class=\"active-category\">Business</li>,\n",
       " <li class=\"active-category\">Sports</li>,\n",
       " <li class=\"active-category\">World</li>,\n",
       " <li class=\"active-category\">Politics</li>,\n",
       " <li class=\"active-category\">Technology</li>,\n",
       " <li class=\"active-category\">Startup</li>,\n",
       " <li class=\"active-category\">Entertainment</li>,\n",
       " <li class=\"active-category\">Miscellaneous</li>,\n",
       " <li class=\"active-category\">Hatke</li>,\n",
       " <li class=\"active-category\">Science</li>,\n",
       " <li class=\"active-category\">Automobile</li>]"
      ]
     },
     "execution_count": 45,
     "metadata": {},
     "output_type": "execute_result"
    }
   ],
   "source": [
    "#looking how to grab every category:\n",
    "soup.select('li')\n",
    "#note: had to go and click each url as 'India' category was actually\n",
    "#'national' in the url:"
   ]
  },
  {
   "cell_type": "code",
   "execution_count": 46,
   "id": "8cd157bf",
   "metadata": {},
   "outputs": [
    {
     "data": {
      "text/plain": [
       "[<li class=\"active-category\">India</li>,\n",
       " <li class=\"active-category\">Business</li>,\n",
       " <li class=\"active-category\">Sports</li>,\n",
       " <li class=\"active-category\">World</li>,\n",
       " <li class=\"active-category\">Politics</li>,\n",
       " <li class=\"active-category\">Technology</li>,\n",
       " <li class=\"active-category\">Startup</li>,\n",
       " <li class=\"active-category\">Entertainment</li>,\n",
       " <li class=\"active-category\">Miscellaneous</li>,\n",
       " <li class=\"active-category\">Hatke</li>,\n",
       " <li class=\"active-category\">Science</li>,\n",
       " <li class=\"active-category\">Automobile</li>]"
      ]
     },
     "execution_count": 46,
     "metadata": {},
     "output_type": "execute_result"
    }
   ],
   "source": [
    "#let's drop off the 'all news' category, as we don't want that:\n",
    "soup.select('li')[1:]"
   ]
  },
  {
   "cell_type": "code",
   "execution_count": 47,
   "id": "04831312",
   "metadata": {},
   "outputs": [
    {
     "data": {
      "text/plain": [
       "['national',\n",
       " 'business',\n",
       " 'sports',\n",
       " 'world',\n",
       " 'politics',\n",
       " 'technology',\n",
       " 'startup',\n",
       " 'entertainment',\n",
       " 'miscellaneous',\n",
       " 'hatke',\n",
       " 'science',\n",
       " 'automobile']"
      ]
     },
     "execution_count": 47,
     "metadata": {},
     "output_type": "execute_result"
    }
   ],
   "source": [
    "categories = [li.text.lower() for li in soup.select('li')[1:]]\n",
    "#then tell India in national:\n",
    "categories[0] = 'national'\n",
    "categories"
   ]
  },
  {
   "cell_type": "code",
   "execution_count": 48,
   "id": "3f1b802a",
   "metadata": {},
   "outputs": [],
   "source": [
    "#building this out:\n",
    "categories = [li.text.lower() for li in soup.select('li')[1:]]\n",
    "#then tell India in national:\n",
    "categories[0] = 'national'\n",
    "\n",
    "#we want a list to put dict in:\n",
    "inshorts = []\n",
    "\n",
    "for category in categories:\n",
    "    \n",
    "    url= 'https://inshorts.com/en/read/' + category\n",
    "    response = get(url, headers=headers)\n",
    "    soup = BeautifulSoup (response.content, 'html.parser')\n",
    "    \n",
    "    \n",
    "    titles = [span.text for span in soup.find_all('span', itemprop='headline')]\n",
    "    contents = [div.text for div in soup.find_all('div', itemprop='articleBody')]\n",
    "    \n",
    "    for i in range(len(titles)):\n",
    "        \n",
    "        article = {\n",
    "            'title': titles[i],\n",
    "            'content': contents[i],\n",
    "            'category': category,\n",
    "        }\n",
    "        \n",
    "        inshorts.append(article)"
   ]
  },
  {
   "cell_type": "code",
   "execution_count": 49,
   "id": "10d1ad4d",
   "metadata": {},
   "outputs": [
    {
     "data": {
      "text/html": [
       "<div>\n",
       "<style scoped>\n",
       "    .dataframe tbody tr th:only-of-type {\n",
       "        vertical-align: middle;\n",
       "    }\n",
       "\n",
       "    .dataframe tbody tr th {\n",
       "        vertical-align: top;\n",
       "    }\n",
       "\n",
       "    .dataframe thead th {\n",
       "        text-align: right;\n",
       "    }\n",
       "</style>\n",
       "<table border=\"1\" class=\"dataframe\">\n",
       "  <thead>\n",
       "    <tr style=\"text-align: right;\">\n",
       "      <th></th>\n",
       "      <th>title</th>\n",
       "      <th>content</th>\n",
       "      <th>category</th>\n",
       "    </tr>\n",
       "  </thead>\n",
       "  <tbody>\n",
       "    <tr>\n",
       "      <th>0</th>\n",
       "      <td>Uddhav fires Sena leaders for 'anti-party' act...</td>\n",
       "      <td>Former Maharashtra CM Uddhav Thackeray on Mond...</td>\n",
       "      <td>national</td>\n",
       "    </tr>\n",
       "    <tr>\n",
       "      <th>1</th>\n",
       "      <td>La Ganesan takes oath as Bengal Guv as Dhankha...</td>\n",
       "      <td>Manipur Governor La Ganesan on Monday took oat...</td>\n",
       "      <td>national</td>\n",
       "    </tr>\n",
       "    <tr>\n",
       "      <th>2</th>\n",
       "      <td>Nupur Sharma moves SC again, says 'got rape &amp; ...</td>\n",
       "      <td>Suspended BJP leader Nupur Sharma has moved th...</td>\n",
       "      <td>national</td>\n",
       "    </tr>\n",
       "    <tr>\n",
       "      <th>3</th>\n",
       "      <td>CBI arrests 8 persons for alleged malpractices...</td>\n",
       "      <td>The Central Bureau of Investigation (CBI) arre...</td>\n",
       "      <td>national</td>\n",
       "    </tr>\n",
       "    <tr>\n",
       "      <th>4</th>\n",
       "      <td>Govt advises screening of foreign arrivals as ...</td>\n",
       "      <td>The Ministry of Health and Family Welfare on M...</td>\n",
       "      <td>national</td>\n",
       "    </tr>\n",
       "    <tr>\n",
       "      <th>...</th>\n",
       "      <td>...</td>\n",
       "      <td>...</td>\n",
       "      <td>...</td>\n",
       "    </tr>\n",
       "    <tr>\n",
       "      <th>292</th>\n",
       "      <td>If inflation calms down, Tesla can lower car p...</td>\n",
       "      <td>Tesla CEO Elon Musk on Friday said that the el...</td>\n",
       "      <td>automobile</td>\n",
       "    </tr>\n",
       "    <tr>\n",
       "      <th>293</th>\n",
       "      <td>Ford recalls 100,000 vehicles in US over poten...</td>\n",
       "      <td>Automobile manufacturer Ford has recalled 100,...</td>\n",
       "      <td>automobile</td>\n",
       "    </tr>\n",
       "    <tr>\n",
       "      <th>294</th>\n",
       "      <td>Tata Motors passenger vehicle range gets a pri...</td>\n",
       "      <td>Tata Motors has raised the prices of its passe...</td>\n",
       "      <td>automobile</td>\n",
       "    </tr>\n",
       "    <tr>\n",
       "      <th>295</th>\n",
       "      <td>Fully agree that aim should be to reduce fire ...</td>\n",
       "      <td>Ola CEO Bhavish Aggarwal in response to Autoca...</td>\n",
       "      <td>automobile</td>\n",
       "    </tr>\n",
       "    <tr>\n",
       "      <th>296</th>\n",
       "      <td>Hero MotoCorp gets permit to use 'Hero' tradem...</td>\n",
       "      <td>A Delhi High Court-appointed arbitration panel...</td>\n",
       "      <td>automobile</td>\n",
       "    </tr>\n",
       "  </tbody>\n",
       "</table>\n",
       "<p>297 rows × 3 columns</p>\n",
       "</div>"
      ],
      "text/plain": [
       "                                                 title  \\\n",
       "0    Uddhav fires Sena leaders for 'anti-party' act...   \n",
       "1    La Ganesan takes oath as Bengal Guv as Dhankha...   \n",
       "2    Nupur Sharma moves SC again, says 'got rape & ...   \n",
       "3    CBI arrests 8 persons for alleged malpractices...   \n",
       "4    Govt advises screening of foreign arrivals as ...   \n",
       "..                                                 ...   \n",
       "292  If inflation calms down, Tesla can lower car p...   \n",
       "293  Ford recalls 100,000 vehicles in US over poten...   \n",
       "294  Tata Motors passenger vehicle range gets a pri...   \n",
       "295  Fully agree that aim should be to reduce fire ...   \n",
       "296  Hero MotoCorp gets permit to use 'Hero' tradem...   \n",
       "\n",
       "                                               content    category  \n",
       "0    Former Maharashtra CM Uddhav Thackeray on Mond...    national  \n",
       "1    Manipur Governor La Ganesan on Monday took oat...    national  \n",
       "2    Suspended BJP leader Nupur Sharma has moved th...    national  \n",
       "3    The Central Bureau of Investigation (CBI) arre...    national  \n",
       "4    The Ministry of Health and Family Welfare on M...    national  \n",
       "..                                                 ...         ...  \n",
       "292  Tesla CEO Elon Musk on Friday said that the el...  automobile  \n",
       "293  Automobile manufacturer Ford has recalled 100,...  automobile  \n",
       "294  Tata Motors has raised the prices of its passe...  automobile  \n",
       "295  Ola CEO Bhavish Aggarwal in response to Autoca...  automobile  \n",
       "296  A Delhi High Court-appointed arbitration panel...  automobile  \n",
       "\n",
       "[297 rows x 3 columns]"
      ]
     },
     "execution_count": 49,
     "metadata": {},
     "output_type": "execute_result"
    }
   ],
   "source": [
    "#taking a look at this scraping by creating a df:\n",
    "pd.DataFrame(inshorts)"
   ]
  },
  {
   "cell_type": "code",
   "execution_count": null,
   "id": "58619e16",
   "metadata": {},
   "outputs": [],
   "source": []
  }
 ],
 "metadata": {
  "kernelspec": {
   "display_name": "Python 3 (ipykernel)",
   "language": "python",
   "name": "python3"
  },
  "language_info": {
   "codemirror_mode": {
    "name": "ipython",
    "version": 3
   },
   "file_extension": ".py",
   "mimetype": "text/x-python",
   "name": "python",
   "nbconvert_exporter": "python",
   "pygments_lexer": "ipython3",
   "version": "3.9.7"
  }
 },
 "nbformat": 4,
 "nbformat_minor": 5
}
