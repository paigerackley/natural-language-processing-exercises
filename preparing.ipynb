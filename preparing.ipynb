{
 "cells": [
  {
   "cell_type": "code",
   "execution_count": 1,
   "id": "e461edcf",
   "metadata": {},
   "outputs": [],
   "source": [
    "import unicodedata\n",
    "import re\n",
    "import json\n",
    "\n",
    "import nltk\n",
    "from nltk.tokenize.toktok import ToktokTokenizer\n",
    "from nltk.corpus import stopwords\n",
    "\n",
    "import pandas as pd\n",
    "\n",
    "import acquire\n",
    "\n",
    "import warnings\n",
    "warnings.filterwarnings('ignore')"
   ]
  },
  {
   "cell_type": "markdown",
   "id": "87d3f7a2",
   "metadata": {},
   "source": [
    "The end result of this exercise should be a file named prepare.py that defines the requested functions.\n",
    "\n",
    "In this exercise we will be defining some functions to prepare textual data. These functions should apply equally well to both the codeup blog articles and the news articles that were previously acquired.\n",
    "\n",
    "1) Define a function named basic_clean. It should take in a string and apply some basic text cleaning to it:\n",
    "\n",
    "- Lowercase everything\n",
    "- Normalize unicode characters\n",
    "- Replace anything that is not a letter, number, whitespace or a single quote.\n"
   ]
  },
  {
   "cell_type": "code",
   "execution_count": null,
   "id": "b42a36c3",
   "metadata": {},
   "outputs": [],
   "source": [
    "def basic_clean(string):\n",
    "    "
   ]
  },
  {
   "cell_type": "markdown",
   "id": "ab37af9b",
   "metadata": {},
   "source": [
    "2) Define a function named tokenize. It should take in a string and tokenize all the words in the string."
   ]
  },
  {
   "cell_type": "code",
   "execution_count": null,
   "id": "b1866da7",
   "metadata": {},
   "outputs": [],
   "source": [
    "def tokenize(string):\n",
    "    "
   ]
  },
  {
   "cell_type": "markdown",
   "id": "ed49c224",
   "metadata": {},
   "source": [
    "3) Define a function named stem. It should accept some text and return the text after applying stemming to all the words."
   ]
  },
  {
   "cell_type": "code",
   "execution_count": null,
   "id": "5a79e29c",
   "metadata": {},
   "outputs": [],
   "source": [
    "def stem(string):\n",
    "    "
   ]
  },
  {
   "cell_type": "markdown",
   "id": "18d71c23",
   "metadata": {},
   "source": [
    "4) Define a function named lemmatize. It should accept some text and return the text after applying lemmatization to each word."
   ]
  },
  {
   "cell_type": "code",
   "execution_count": null,
   "id": "992e2b62",
   "metadata": {},
   "outputs": [],
   "source": [
    "def lemmatize(string):\n",
    "    "
   ]
  },
  {
   "cell_type": "markdown",
   "id": "48f2adc7",
   "metadata": {},
   "source": [
    "5) Define a function named remove_stopwords. It should accept some text and return the text after removing all the stopwords.\n",
    "\n",
    "This function should define two optional parameters, extra_words and exclude_words. These parameters should define any additional stop words to include, and any words that we don't want to remove."
   ]
  },
  {
   "cell_type": "code",
   "execution_count": null,
   "id": "23b501c9",
   "metadata": {},
   "outputs": [],
   "source": [
    "def remove_stopwords(string):\n",
    "    "
   ]
  },
  {
   "cell_type": "markdown",
   "id": "17ea7a22",
   "metadata": {},
   "source": [
    "6) Use your data from the acquire to produce a dataframe of the news articles. Name the dataframe news_df."
   ]
  },
  {
   "cell_type": "code",
   "execution_count": 9,
   "id": "5b77627d",
   "metadata": {},
   "outputs": [
    {
     "data": {
      "text/html": [
       "<div>\n",
       "<style scoped>\n",
       "    .dataframe tbody tr th:only-of-type {\n",
       "        vertical-align: middle;\n",
       "    }\n",
       "\n",
       "    .dataframe tbody tr th {\n",
       "        vertical-align: top;\n",
       "    }\n",
       "\n",
       "    .dataframe thead th {\n",
       "        text-align: right;\n",
       "    }\n",
       "</style>\n",
       "<table border=\"1\" class=\"dataframe\">\n",
       "  <thead>\n",
       "    <tr style=\"text-align: right;\">\n",
       "      <th></th>\n",
       "      <th>title</th>\n",
       "      <th>content</th>\n",
       "      <th>author</th>\n",
       "      <th>date</th>\n",
       "      <th>source</th>\n",
       "      <th>category</th>\n",
       "    </tr>\n",
       "  </thead>\n",
       "  <tbody>\n",
       "    <tr>\n",
       "      <th>0</th>\n",
       "      <td>Rupee hits record low of 79.97 against US dollar</td>\n",
       "      <td>The rupee hit a record low of 79.97 against th...</td>\n",
       "      <td>Ridham Gambhir</td>\n",
       "      <td>18 Jul</td>\n",
       "      <td>NaN</td>\n",
       "      <td>business</td>\n",
       "    </tr>\n",
       "    <tr>\n",
       "      <th>1</th>\n",
       "      <td>Rupee closes at an all-time low of 79.98 again...</td>\n",
       "      <td>The rupee on Monday hit a fresh record low as ...</td>\n",
       "      <td>Ridham Gambhir</td>\n",
       "      <td>18 Jul</td>\n",
       "      <td>NaN</td>\n",
       "      <td>business</td>\n",
       "    </tr>\n",
       "    <tr>\n",
       "      <th>2</th>\n",
       "      <td>A fighter to the core: Mahindra praises PV Sin...</td>\n",
       "      <td>Businessman Anand Mahindra took to Twitter to ...</td>\n",
       "      <td>Ridham Gambhir</td>\n",
       "      <td>17 Jul</td>\n",
       "      <td>NaN</td>\n",
       "      <td>business</td>\n",
       "    </tr>\n",
       "    <tr>\n",
       "      <th>3</th>\n",
       "      <td>BCCI had ₹40 cr in bank when I joined &amp; ₹47,68...</td>\n",
       "      <td>In an Instagram post, Lalit Modi asserted that...</td>\n",
       "      <td>Ridham Gambhir</td>\n",
       "      <td>17 Jul</td>\n",
       "      <td>NaN</td>\n",
       "      <td>business</td>\n",
       "    </tr>\n",
       "    <tr>\n",
       "      <th>4</th>\n",
       "      <td>11 SEBI officials' email accounts hacked &amp; use...</td>\n",
       "      <td>Mumbai police has filed an FIR after the Secur...</td>\n",
       "      <td>Hiral Goyal</td>\n",
       "      <td>17 Jul</td>\n",
       "      <td>NaN</td>\n",
       "      <td>business</td>\n",
       "    </tr>\n",
       "    <tr>\n",
       "      <th>...</th>\n",
       "      <td>...</td>\n",
       "      <td>...</td>\n",
       "      <td>...</td>\n",
       "      <td>...</td>\n",
       "      <td>...</td>\n",
       "      <td>...</td>\n",
       "    </tr>\n",
       "    <tr>\n",
       "      <th>95</th>\n",
       "      <td>Some pap pics look vulgar, then people charact...</td>\n",
       "      <td>Actress Janhvi Kapoor has stated that sometime...</td>\n",
       "      <td>Kriti Kambiri</td>\n",
       "      <td>18 Jul</td>\n",
       "      <td>NaN</td>\n",
       "      <td>entertainment</td>\n",
       "    </tr>\n",
       "    <tr>\n",
       "      <th>96</th>\n",
       "      <td>Excited to announce my next film starring Kart...</td>\n",
       "      <td>Filmmaker Kabir Khan took to Instagram to anno...</td>\n",
       "      <td>Amartya Sharma</td>\n",
       "      <td>18 Jul</td>\n",
       "      <td>NaN</td>\n",
       "      <td>entertainment</td>\n",
       "    </tr>\n",
       "    <tr>\n",
       "      <th>97</th>\n",
       "      <td>Kajol to make web series debut, says 'Love to ...</td>\n",
       "      <td>Kajol is set to make her web series debut with...</td>\n",
       "      <td>Udit Gupta</td>\n",
       "      <td>18 Jul</td>\n",
       "      <td>NaN</td>\n",
       "      <td>entertainment</td>\n",
       "    </tr>\n",
       "    <tr>\n",
       "      <th>98</th>\n",
       "      <td>Ranbir always caught my attention with his wor...</td>\n",
       "      <td>'Shamshera' director Karan Malhotra has said t...</td>\n",
       "      <td>Amartya Sharma</td>\n",
       "      <td>18 Jul</td>\n",
       "      <td>NaN</td>\n",
       "      <td>entertainment</td>\n",
       "    </tr>\n",
       "    <tr>\n",
       "      <th>99</th>\n",
       "      <td>'PS-1' director Mani Ratnam receives legal not...</td>\n",
       "      <td>Filmmaker Mani Ratnam and actor Vikram have re...</td>\n",
       "      <td>Amartya Sharma</td>\n",
       "      <td>18 Jul</td>\n",
       "      <td>NaN</td>\n",
       "      <td>entertainment</td>\n",
       "    </tr>\n",
       "  </tbody>\n",
       "</table>\n",
       "<p>100 rows × 6 columns</p>\n",
       "</div>"
      ],
      "text/plain": [
       "                                                title  \\\n",
       "0    Rupee hits record low of 79.97 against US dollar   \n",
       "1   Rupee closes at an all-time low of 79.98 again...   \n",
       "2   A fighter to the core: Mahindra praises PV Sin...   \n",
       "3   BCCI had ₹40 cr in bank when I joined & ₹47,68...   \n",
       "4   11 SEBI officials' email accounts hacked & use...   \n",
       "..                                                ...   \n",
       "95  Some pap pics look vulgar, then people charact...   \n",
       "96  Excited to announce my next film starring Kart...   \n",
       "97  Kajol to make web series debut, says 'Love to ...   \n",
       "98  Ranbir always caught my attention with his wor...   \n",
       "99  'PS-1' director Mani Ratnam receives legal not...   \n",
       "\n",
       "                                              content          author    date  \\\n",
       "0   The rupee hit a record low of 79.97 against th...  Ridham Gambhir  18 Jul   \n",
       "1   The rupee on Monday hit a fresh record low as ...  Ridham Gambhir  18 Jul   \n",
       "2   Businessman Anand Mahindra took to Twitter to ...  Ridham Gambhir  17 Jul   \n",
       "3   In an Instagram post, Lalit Modi asserted that...  Ridham Gambhir  17 Jul   \n",
       "4   Mumbai police has filed an FIR after the Secur...     Hiral Goyal  17 Jul   \n",
       "..                                                ...             ...     ...   \n",
       "95  Actress Janhvi Kapoor has stated that sometime...   Kriti Kambiri  18 Jul   \n",
       "96  Filmmaker Kabir Khan took to Instagram to anno...  Amartya Sharma  18 Jul   \n",
       "97  Kajol is set to make her web series debut with...      Udit Gupta  18 Jul   \n",
       "98  'Shamshera' director Karan Malhotra has said t...  Amartya Sharma  18 Jul   \n",
       "99  Filmmaker Mani Ratnam and actor Vikram have re...  Amartya Sharma  18 Jul   \n",
       "\n",
       "    source       category  \n",
       "0      NaN       business  \n",
       "1      NaN       business  \n",
       "2      NaN       business  \n",
       "3      NaN       business  \n",
       "4      NaN       business  \n",
       "..     ...            ...  \n",
       "95     NaN  entertainment  \n",
       "96     NaN  entertainment  \n",
       "97     NaN  entertainment  \n",
       "98     NaN  entertainment  \n",
       "99     NaN  entertainment  \n",
       "\n",
       "[100 rows x 6 columns]"
      ]
     },
     "execution_count": 9,
     "metadata": {},
     "output_type": "execute_result"
    }
   ],
   "source": [
    "news_df = acquire.get_news_articles()\n",
    "news_df"
   ]
  },
  {
   "cell_type": "markdown",
   "id": "1162534a",
   "metadata": {},
   "source": [
    "7) Make another dataframe for the Codeup blog posts. Name the dataframe codeup_df."
   ]
  },
  {
   "cell_type": "code",
   "execution_count": 2,
   "id": "ee5daf38",
   "metadata": {},
   "outputs": [
    {
     "name": "stdout",
     "output_type": "stream",
     "text": [
      "fetching https://codeup.com/workshops/in-person-workshop-learn-to-code-python-on-7-19/\n"
     ]
    },
    {
     "ename": "NameError",
     "evalue": "name 'headers' is not defined",
     "output_type": "error",
     "traceback": [
      "\u001b[0;31m---------------------------------------------------------------------------\u001b[0m",
      "\u001b[0;31mNameError\u001b[0m                                 Traceback (most recent call last)",
      "\u001b[0;32m/var/folders/6m/5f3p8xk954n_z611nvzksq440000gn/T/ipykernel_56309/4256939374.py\u001b[0m in \u001b[0;36m<module>\u001b[0;34m\u001b[0m\n\u001b[0;32m----> 1\u001b[0;31m \u001b[0mcodeup_df\u001b[0m \u001b[0;34m=\u001b[0m \u001b[0macquire\u001b[0m\u001b[0;34m.\u001b[0m\u001b[0mget_blog_posts\u001b[0m\u001b[0;34m(\u001b[0m\u001b[0;34m)\u001b[0m\u001b[0;34m\u001b[0m\u001b[0;34m\u001b[0m\u001b[0m\n\u001b[0m",
      "\u001b[0;32m~/codeup-data-science/natural-language-processing-exercises/acquire.py\u001b[0m in \u001b[0;36mget_blog_posts\u001b[0;34m(use_cache)\u001b[0m\n\u001b[1;32m     26\u001b[0m     \u001b[0;32mfor\u001b[0m \u001b[0murl\u001b[0m \u001b[0;32min\u001b[0m \u001b[0murls\u001b[0m\u001b[0;34m:\u001b[0m\u001b[0;34m\u001b[0m\u001b[0;34m\u001b[0m\u001b[0m\n\u001b[1;32m     27\u001b[0m         \u001b[0mprint\u001b[0m\u001b[0;34m(\u001b[0m\u001b[0;34mf'fetching {url}'\u001b[0m\u001b[0;34m)\u001b[0m\u001b[0;34m\u001b[0m\u001b[0;34m\u001b[0m\u001b[0m\n\u001b[0;32m---> 28\u001b[0;31m         \u001b[0mresponse\u001b[0m \u001b[0;34m=\u001b[0m \u001b[0mrequests\u001b[0m\u001b[0;34m.\u001b[0m\u001b[0mget\u001b[0m\u001b[0;34m(\u001b[0m\u001b[0murl\u001b[0m\u001b[0;34m,\u001b[0m \u001b[0mheaders\u001b[0m\u001b[0;34m=\u001b[0m\u001b[0mheaders\u001b[0m\u001b[0;34m)\u001b[0m\u001b[0;34m\u001b[0m\u001b[0;34m\u001b[0m\u001b[0m\n\u001b[0m\u001b[1;32m     29\u001b[0m         \u001b[0msoup\u001b[0m \u001b[0;34m=\u001b[0m \u001b[0mBeautifulSoup\u001b[0m\u001b[0;34m(\u001b[0m\u001b[0mresponse\u001b[0m\u001b[0;34m.\u001b[0m\u001b[0mtext\u001b[0m\u001b[0;34m)\u001b[0m\u001b[0;34m\u001b[0m\u001b[0;34m\u001b[0m\u001b[0m\n\u001b[1;32m     30\u001b[0m         \u001b[0marticles\u001b[0m\u001b[0;34m.\u001b[0m\u001b[0mappend\u001b[0m\u001b[0;34m(\u001b[0m\u001b[0mparse_blog_article\u001b[0m\u001b[0;34m(\u001b[0m\u001b[0msoup\u001b[0m\u001b[0;34m)\u001b[0m\u001b[0;34m)\u001b[0m\u001b[0;34m\u001b[0m\u001b[0;34m\u001b[0m\u001b[0m\n",
      "\u001b[0;31mNameError\u001b[0m: name 'headers' is not defined"
     ]
    }
   ],
   "source": [
    "codeup_df = acquire.get_blog_posts()\n"
   ]
  },
  {
   "cell_type": "code",
   "execution_count": null,
   "id": "558926ba",
   "metadata": {},
   "outputs": [],
   "source": []
  }
 ],
 "metadata": {
  "kernelspec": {
   "display_name": "Python 3 (ipykernel)",
   "language": "python",
   "name": "python3"
  },
  "language_info": {
   "codemirror_mode": {
    "name": "ipython",
    "version": 3
   },
   "file_extension": ".py",
   "mimetype": "text/x-python",
   "name": "python",
   "nbconvert_exporter": "python",
   "pygments_lexer": "ipython3",
   "version": "3.9.7"
  }
 },
 "nbformat": 4,
 "nbformat_minor": 5
}
